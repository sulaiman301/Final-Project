{
 "cells": [
  {
   "cell_type": "markdown",
   "metadata": {},
   "source": [
    "# Major US Oil and Gas Stock Price EDA"
   ]
  },
  {
   "cell_type": "markdown",
   "metadata": {},
   "source": [
    "\n",
    "This script performs exploratory data analysis (EDA) on the stock prices of major US oil and gas companies.\n",
    " Below is a breakdown of the process and key steps, along with some improvements and potential additional analysis you might consider."
   ]
  },
  {
   "cell_type": "markdown",
   "metadata": {},
   "source": [
    "# Importing Necessary Libraries"
   ]
  },
  {
   "cell_type": "code",
   "execution_count": 2,
   "metadata": {},
   "outputs": [
    {
     "name": "stdout",
     "output_type": "stream",
     "text": [
      "Requirement already satisfied: matplotlib in c:\\users\\user\\anaconda3\\anaconda\\lib\\site-packages (3.9.2)Note: you may need to restart the kernel to use updated packages.\n",
      "\n",
      "Requirement already satisfied: numpy>=1.23 in c:\\users\\user\\anaconda3\\anaconda\\lib\\site-packages (from matplotlib) (1.26.4)\n",
      "Requirement already satisfied: importlib-resources>=3.2.0 in c:\\users\\user\\anaconda3\\anaconda\\lib\\site-packages (from matplotlib) (6.4.3)\n",
      "Requirement already satisfied: contourpy>=1.0.1 in c:\\users\\user\\anaconda3\\anaconda\\lib\\site-packages (from matplotlib) (1.2.1)\n",
      "Requirement already satisfied: pillow>=8 in c:\\users\\user\\anaconda3\\anaconda\\lib\\site-packages (from matplotlib) (9.2.0)\n",
      "Requirement already satisfied: pyparsing>=2.3.1 in c:\\users\\user\\anaconda3\\anaconda\\lib\\site-packages (from matplotlib) (3.0.9)\n",
      "Requirement already satisfied: packaging>=20.0 in c:\\users\\user\\anaconda3\\anaconda\\lib\\site-packages (from matplotlib) (21.3)\n",
      "Requirement already satisfied: kiwisolver>=1.3.1 in c:\\users\\user\\anaconda3\\anaconda\\lib\\site-packages (from matplotlib) (1.4.2)\n",
      "Requirement already satisfied: python-dateutil>=2.7 in c:\\users\\user\\anaconda3\\anaconda\\lib\\site-packages (from matplotlib) (2.8.2)\n",
      "Requirement already satisfied: cycler>=0.10 in c:\\users\\user\\anaconda3\\anaconda\\lib\\site-packages (from matplotlib) (0.11.0)\n",
      "Requirement already satisfied: fonttools>=4.22.0 in c:\\users\\user\\anaconda3\\anaconda\\lib\\site-packages (from matplotlib) (4.25.0)\n",
      "Requirement already satisfied: zipp>=3.1.0 in c:\\users\\user\\anaconda3\\anaconda\\lib\\site-packages (from importlib-resources>=3.2.0->matplotlib) (3.8.0)\n",
      "Requirement already satisfied: six>=1.5 in c:\\users\\user\\anaconda3\\anaconda\\lib\\site-packages (from python-dateutil>=2.7->matplotlib) (1.16.0)\n"
     ]
    },
    {
     "name": "stderr",
     "output_type": "stream",
     "text": [
      "WARNING: Ignoring invalid distribution -atplotlib (c:\\users\\user\\anaconda3\\anaconda\\lib\\site-packages)\n",
      "WARNING: Ignoring invalid distribution -atplotlib (c:\\users\\user\\anaconda3\\anaconda\\lib\\site-packages)\n",
      "WARNING: Ignoring invalid distribution -atplotlib (c:\\users\\user\\anaconda3\\anaconda\\lib\\site-packages)\n",
      "WARNING: Ignoring invalid distribution -atplotlib (c:\\users\\user\\anaconda3\\anaconda\\lib\\site-packages)\n",
      "WARNING: Ignoring invalid distribution -atplotlib (c:\\users\\user\\anaconda3\\anaconda\\lib\\site-packages)\n",
      "WARNING: Ignoring invalid distribution -atplotlib (c:\\users\\user\\anaconda3\\anaconda\\lib\\site-packages)\n"
     ]
    }
   ],
   "source": [
    "pip install --upgrade matplotlib\n"
   ]
  },
  {
   "cell_type": "code",
   "execution_count": 3,
   "metadata": {},
   "outputs": [
    {
     "name": "stdout",
     "output_type": "stream",
     "text": [
      "Requirement already satisfied: seaborn in c:\\users\\user\\anaconda3\\anaconda\\lib\\site-packages (0.11.2)\n",
      "Collecting seaborn\n",
      "  Using cached seaborn-0.13.2-py3-none-any.whl (294 kB)\n",
      "Requirement already satisfied: numpy!=1.24.0,>=1.20 in c:\\users\\user\\anaconda3\\anaconda\\lib\\site-packages (from seaborn) (1.26.4)\n",
      "Requirement already satisfied: matplotlib!=3.6.1,>=3.4 in c:\\users\\user\\anaconda3\\anaconda\\lib\\site-packages (from seaborn) (3.9.2)\n",
      "Requirement already satisfied: pandas>=1.2 in c:\\users\\user\\anaconda3\\anaconda\\lib\\site-packages (from seaborn) (2.2.2)\n",
      "Requirement already satisfied: pyparsing>=2.3.1 in c:\\users\\user\\anaconda3\\anaconda\\lib\\site-packages (from matplotlib!=3.6.1,>=3.4->seaborn) (3.0.9)\n",
      "Requirement already satisfied: importlib-resources>=3.2.0 in c:\\users\\user\\anaconda3\\anaconda\\lib\\site-packages (from matplotlib!=3.6.1,>=3.4->seaborn) (6.4.3)\n",
      "Requirement already satisfied: pillow>=8 in c:\\users\\user\\anaconda3\\anaconda\\lib\\site-packages (from matplotlib!=3.6.1,>=3.4->seaborn) (9.2.0)\n",
      "Requirement already satisfied: cycler>=0.10 in c:\\users\\user\\anaconda3\\anaconda\\lib\\site-packages (from matplotlib!=3.6.1,>=3.4->seaborn) (0.11.0)\n",
      "Requirement already satisfied: kiwisolver>=1.3.1 in c:\\users\\user\\anaconda3\\anaconda\\lib\\site-packages (from matplotlib!=3.6.1,>=3.4->seaborn) (1.4.2)\n",
      "Requirement already satisfied: contourpy>=1.0.1 in c:\\users\\user\\anaconda3\\anaconda\\lib\\site-packages (from matplotlib!=3.6.1,>=3.4->seaborn) (1.2.1)\n",
      "Requirement already satisfied: packaging>=20.0 in c:\\users\\user\\anaconda3\\anaconda\\lib\\site-packages (from matplotlib!=3.6.1,>=3.4->seaborn) (21.3)\n",
      "Requirement already satisfied: python-dateutil>=2.7 in c:\\users\\user\\anaconda3\\anaconda\\lib\\site-packages (from matplotlib!=3.6.1,>=3.4->seaborn) (2.8.2)\n",
      "Requirement already satisfied: fonttools>=4.22.0 in c:\\users\\user\\anaconda3\\anaconda\\lib\\site-packages (from matplotlib!=3.6.1,>=3.4->seaborn) (4.25.0)\n",
      "Requirement already satisfied: tzdata>=2022.7 in c:\\users\\user\\anaconda3\\anaconda\\lib\\site-packages (from pandas>=1.2->seaborn) (2024.1)\n",
      "Requirement already satisfied: pytz>=2020.1 in c:\\users\\user\\anaconda3\\anaconda\\lib\\site-packages (from pandas>=1.2->seaborn) (2022.1)\n",
      "Requirement already satisfied: zipp>=3.1.0 in c:\\users\\user\\anaconda3\\anaconda\\lib\\site-packages (from importlib-resources>=3.2.0->matplotlib!=3.6.1,>=3.4->seaborn) (3.8.0)\n",
      "Requirement already satisfied: six>=1.5 in c:\\users\\user\\anaconda3\\anaconda\\lib\\site-packages (from python-dateutil>=2.7->matplotlib!=3.6.1,>=3.4->seaborn) (1.16.0)\n",
      "Installing collected packages: seaborn\n",
      "  Attempting uninstall: seaborn\n",
      "    Found existing installation: seaborn 0.11.2\n",
      "    Uninstalling seaborn-0.11.2:\n",
      "      Successfully uninstalled seaborn-0.11.2\n",
      "Successfully installed seaborn-0.13.2\n",
      "Note: you may need to restart the kernel to use updated packages.\n"
     ]
    },
    {
     "name": "stderr",
     "output_type": "stream",
     "text": [
      "WARNING: Ignoring invalid distribution -atplotlib (c:\\users\\user\\anaconda3\\anaconda\\lib\\site-packages)\n",
      "WARNING: Ignoring invalid distribution -atplotlib (c:\\users\\user\\anaconda3\\anaconda\\lib\\site-packages)\n",
      "WARNING: Ignoring invalid distribution -atplotlib (c:\\users\\user\\anaconda3\\anaconda\\lib\\site-packages)\n",
      "    WARNING: Ignoring invalid distribution -atplotlib (c:\\users\\user\\anaconda3\\anaconda\\lib\\site-packages)\n",
      "WARNING: Ignoring invalid distribution -atplotlib (c:\\users\\user\\anaconda3\\anaconda\\lib\\site-packages)\n",
      "WARNING: Ignoring invalid distribution -atplotlib (c:\\users\\user\\anaconda3\\anaconda\\lib\\site-packages)\n",
      "WARNING: Ignoring invalid distribution -atplotlib (c:\\users\\user\\anaconda3\\anaconda\\lib\\site-packages)\n",
      "WARNING: Ignoring invalid distribution -atplotlib (c:\\users\\user\\anaconda3\\anaconda\\lib\\site-packages)\n"
     ]
    }
   ],
   "source": [
    "pip install --upgrade seaborn\n"
   ]
  },
  {
   "cell_type": "code",
   "execution_count": 4,
   "metadata": {},
   "outputs": [
    {
     "name": "stdout",
     "output_type": "stream",
     "text": [
      "Collecting matplotlib==3.6.0\n",
      "  Downloading matplotlib-3.6.0-cp39-cp39-win_amd64.whl (7.2 MB)\n",
      "     ---------------------------------------- 7.2/7.2 MB 795.9 kB/s eta 0:00:00\n",
      "Collecting seaborn==0.12.0\n",
      "  Downloading seaborn-0.12.0-py3-none-any.whl (285 kB)\n",
      "     ------------------------------------ 285.1/285.1 kB 978.2 kB/s eta 0:00:00\n",
      "Requirement already satisfied: packaging>=20.0 in c:\\users\\user\\anaconda3\\anaconda\\lib\\site-packages (from matplotlib==3.6.0) (21.3)\n",
      "Requirement already satisfied: pillow>=6.2.0 in c:\\users\\user\\anaconda3\\anaconda\\lib\\site-packages (from matplotlib==3.6.0) (9.2.0)\n",
      "Requirement already satisfied: pyparsing>=2.2.1 in c:\\users\\user\\anaconda3\\anaconda\\lib\\site-packages (from matplotlib==3.6.0) (3.0.9)\n",
      "Requirement already satisfied: fonttools>=4.22.0 in c:\\users\\user\\anaconda3\\anaconda\\lib\\site-packages (from matplotlib==3.6.0) (4.25.0)\n",
      "Requirement already satisfied: cycler>=0.10 in c:\\users\\user\\anaconda3\\anaconda\\lib\\site-packages (from matplotlib==3.6.0) (0.11.0)\n",
      "Requirement already satisfied: contourpy>=1.0.1 in c:\\users\\user\\anaconda3\\anaconda\\lib\\site-packages (from matplotlib==3.6.0) (1.2.1)\n",
      "Requirement already satisfied: python-dateutil>=2.7 in c:\\users\\user\\anaconda3\\anaconda\\lib\\site-packages (from matplotlib==3.6.0) (2.8.2)\n",
      "Requirement already satisfied: numpy>=1.19 in c:\\users\\user\\anaconda3\\anaconda\\lib\\site-packages (from matplotlib==3.6.0) (1.26.4)\n",
      "Requirement already satisfied: kiwisolver>=1.0.1 in c:\\users\\user\\anaconda3\\anaconda\\lib\\site-packages (from matplotlib==3.6.0) (1.4.2)\n",
      "Requirement already satisfied: pandas>=0.25 in c:\\users\\user\\anaconda3\\anaconda\\lib\\site-packages (from seaborn==0.12.0) (2.2.2)\n",
      "Requirement already satisfied: pytz>=2020.1 in c:\\users\\user\\anaconda3\\anaconda\\lib\\site-packages (from pandas>=0.25->seaborn==0.12.0) (2022.1)\n",
      "Requirement already satisfied: tzdata>=2022.7 in c:\\users\\user\\anaconda3\\anaconda\\lib\\site-packages (from pandas>=0.25->seaborn==0.12.0) (2024.1)\n",
      "Requirement already satisfied: six>=1.5 in c:\\users\\user\\anaconda3\\anaconda\\lib\\site-packages (from python-dateutil>=2.7->matplotlib==3.6.0) (1.16.0)\n",
      "Installing collected packages: matplotlib, seaborn\n",
      "  Attempting uninstall: matplotlib\n",
      "    Found existing installation: matplotlib 3.9.2\n",
      "Note: you may need to restart the kernel to use updated packages.\n"
     ]
    },
    {
     "name": "stderr",
     "output_type": "stream",
     "text": [
      "WARNING: Ignoring invalid distribution -atplotlib (c:\\users\\user\\anaconda3\\anaconda\\lib\\site-packages)\n",
      "WARNING: Ignoring invalid distribution -atplotlib (c:\\users\\user\\anaconda3\\anaconda\\lib\\site-packages)\n",
      "WARNING: Ignoring invalid distribution -atplotlib (c:\\users\\user\\anaconda3\\anaconda\\lib\\site-packages)\n",
      "    WARNING: Ignoring invalid distribution -atplotlib (c:\\users\\user\\anaconda3\\anaconda\\lib\\site-packages)\n",
      "ERROR: Cannot uninstall matplotlib 3.9.2, RECORD file not found. You might be able to recover from this via: 'pip install --force-reinstall --no-deps matplotlib==3.9.2'.\n",
      "WARNING: Ignoring invalid distribution -atplotlib (c:\\users\\user\\anaconda3\\anaconda\\lib\\site-packages)\n",
      "WARNING: Ignoring invalid distribution -atplotlib (c:\\users\\user\\anaconda3\\anaconda\\lib\\site-packages)\n",
      "WARNING: Ignoring invalid distribution -atplotlib (c:\\users\\user\\anaconda3\\anaconda\\lib\\site-packages)\n"
     ]
    }
   ],
   "source": [
    "pip install matplotlib==3.6.0 seaborn==0.12.0\n"
   ]
  },
  {
   "cell_type": "code",
   "execution_count": 5,
   "metadata": {},
   "outputs": [
    {
     "name": "stdout",
     "output_type": "stream",
     "text": [
      "Collecting matplotlib==3.6.0\n",
      "  Using cached matplotlib-3.6.0-cp39-cp39-win_amd64.whl (7.2 MB)\n",
      "Collecting seaborn==0.12.0\n",
      "  Using cached seaborn-0.12.0-py3-none-any.whl (285 kB)\n",
      "Requirement already satisfied: python-dateutil>=2.7 in c:\\users\\user\\anaconda3\\anaconda\\lib\\site-packages (from matplotlib==3.6.0) (2.8.2)\n",
      "Requirement already satisfied: cycler>=0.10 in c:\\users\\user\\anaconda3\\anaconda\\lib\\site-packages (from matplotlib==3.6.0) (0.11.0)\n",
      "Requirement already satisfied: kiwisolver>=1.0.1 in c:\\users\\user\\anaconda3\\anaconda\\lib\\site-packages (from matplotlib==3.6.0) (1.4.2)\n",
      "Requirement already satisfied: packaging>=20.0 in c:\\users\\user\\anaconda3\\anaconda\\lib\\site-packages (from matplotlib==3.6.0) (21.3)\n",
      "Requirement already satisfied: contourpy>=1.0.1 in c:\\users\\user\\anaconda3\\anaconda\\lib\\site-packages (from matplotlib==3.6.0) (1.2.1)\n",
      "Requirement already satisfied: pillow>=6.2.0 in c:\\users\\user\\anaconda3\\anaconda\\lib\\site-packages (from matplotlib==3.6.0) (9.2.0)\n",
      "Requirement already satisfied: numpy>=1.19 in c:\\users\\user\\anaconda3\\anaconda\\lib\\site-packages (from matplotlib==3.6.0) (1.26.4)\n",
      "Requirement already satisfied: fonttools>=4.22.0 in c:\\users\\user\\anaconda3\\anaconda\\lib\\site-packages (from matplotlib==3.6.0) (4.25.0)\n",
      "Requirement already satisfied: pyparsing>=2.2.1 in c:\\users\\user\\anaconda3\\anaconda\\lib\\site-packages (from matplotlib==3.6.0) (3.0.9)\n",
      "Requirement already satisfied: pandas>=0.25 in c:\\users\\user\\anaconda3\\anaconda\\lib\\site-packages (from seaborn==0.12.0) (2.2.2)\n",
      "Requirement already satisfied: tzdata>=2022.7 in c:\\users\\user\\anaconda3\\anaconda\\lib\\site-packages (from pandas>=0.25->seaborn==0.12.0) (2024.1)\n",
      "Requirement already satisfied: pytz>=2020.1 in c:\\users\\user\\anaconda3\\anaconda\\lib\\site-packages (from pandas>=0.25->seaborn==0.12.0) (2022.1)\n",
      "Requirement already satisfied: six>=1.5 in c:\\users\\user\\anaconda3\\anaconda\\lib\\site-packages (from python-dateutil>=2.7->matplotlib==3.6.0) (1.16.0)\n",
      "Installing collected packages: matplotlib, seaborn\n",
      "  Attempting uninstall: matplotlib\n",
      "    Found existing installation: matplotlib 3.9.2\n",
      "Note: you may need to restart the kernel to use updated packages.\n"
     ]
    },
    {
     "name": "stderr",
     "output_type": "stream",
     "text": [
      "WARNING: Ignoring invalid distribution -atplotlib (c:\\users\\user\\anaconda3\\anaconda\\lib\\site-packages)\n",
      "WARNING: Ignoring invalid distribution -atplotlib (c:\\users\\user\\anaconda3\\anaconda\\lib\\site-packages)\n",
      "WARNING: Ignoring invalid distribution -atplotlib (c:\\users\\user\\anaconda3\\anaconda\\lib\\site-packages)\n",
      "    WARNING: Ignoring invalid distribution -atplotlib (c:\\users\\user\\anaconda3\\anaconda\\lib\\site-packages)\n",
      "ERROR: Cannot uninstall matplotlib 3.9.2, RECORD file not found. You might be able to recover from this via: 'pip install --force-reinstall --no-deps matplotlib==3.9.2'.\n",
      "WARNING: Ignoring invalid distribution -atplotlib (c:\\users\\user\\anaconda3\\anaconda\\lib\\site-packages)\n",
      "WARNING: Ignoring invalid distribution -atplotlib (c:\\users\\user\\anaconda3\\anaconda\\lib\\site-packages)\n",
      "WARNING: Ignoring invalid distribution -atplotlib (c:\\users\\user\\anaconda3\\anaconda\\lib\\site-packages)\n"
     ]
    }
   ],
   "source": [
    "pip install matplotlib==3.6.0 seaborn==0.12.0\n"
   ]
  },
  {
   "cell_type": "code",
   "execution_count": 12,
   "metadata": {},
   "outputs": [
    {
     "name": "stdout",
     "output_type": "stream",
     "text": [
      "Requirement already satisfied: matplotlib in c:\\users\\user\\anaconda3\\anaconda\\lib\\site-packages (3.9.2)\n",
      "Requirement already satisfied: seaborn in c:\\users\\user\\anaconda3\\anaconda\\lib\\site-packages (0.13.2)\n",
      "Requirement already satisfied: contourpy>=1.0.1 in c:\\users\\user\\anaconda3\\anaconda\\lib\\site-packages (from matplotlib) (1.2.1)\n",
      "Requirement already satisfied: importlib-resources>=3.2.0 in c:\\users\\user\\anaconda3\\anaconda\\lib\\site-packages (from matplotlib) (6.4.3)\n",
      "Requirement already satisfied: packaging>=20.0 in c:\\users\\user\\anaconda3\\anaconda\\lib\\site-packages (from matplotlib) (21.3)\n",
      "Requirement already satisfied: kiwisolver>=1.3.1 in c:\\users\\user\\anaconda3\\anaconda\\lib\\site-packages (from matplotlib) (1.4.2)\n",
      "Requirement already satisfied: cycler>=0.10 in c:\\users\\user\\anaconda3\\anaconda\\lib\\site-packages (from matplotlib) (0.11.0)\n",
      "Requirement already satisfied: pyparsing>=2.3.1 in c:\\users\\user\\anaconda3\\anaconda\\lib\\site-packages (from matplotlib) (3.0.9)\n",
      "Requirement already satisfied: pillow>=8 in c:\\users\\user\\anaconda3\\anaconda\\lib\\site-packages (from matplotlib) (9.2.0)\n",
      "Requirement already satisfied: numpy>=1.23 in c:\\users\\user\\anaconda3\\anaconda\\lib\\site-packages (from matplotlib) (1.26.4)\n",
      "Requirement already satisfied: python-dateutil>=2.7 in c:\\users\\user\\anaconda3\\anaconda\\lib\\site-packages (from matplotlib) (2.8.2)\n",
      "Requirement already satisfied: fonttools>=4.22.0 in c:\\users\\user\\anaconda3\\anaconda\\lib\\site-packages (from matplotlib) (4.25.0)\n",
      "Requirement already satisfied: pandas>=1.2 in c:\\users\\user\\anaconda3\\anaconda\\lib\\site-packages (from seaborn) (2.2.2)\n",
      "Requirement already satisfied: zipp>=3.1.0 in c:\\users\\user\\anaconda3\\anaconda\\lib\\site-packages (from importlib-resources>=3.2.0->matplotlib) (3.8.0)\n",
      "Requirement already satisfied: pytz>=2020.1 in c:\\users\\user\\anaconda3\\anaconda\\lib\\site-packages (from pandas>=1.2->seaborn) (2022.1)\n",
      "Requirement already satisfied: tzdata>=2022.7 in c:\\users\\user\\anaconda3\\anaconda\\lib\\site-packages (from pandas>=1.2->seaborn) (2024.1)\n",
      "Requirement already satisfied: six>=1.5 in c:\\users\\user\\anaconda3\\anaconda\\lib\\site-packages (from python-dateutil>=2.7->matplotlib) (1.16.0)\n"
     ]
    },
    {
     "name": "stderr",
     "output_type": "stream",
     "text": [
      "WARNING: Ignoring invalid distribution -atplotlib (c:\\users\\user\\anaconda3\\anaconda\\lib\\site-packages)\n",
      "WARNING: Ignoring invalid distribution -atplotlib (c:\\users\\user\\anaconda3\\anaconda\\lib\\site-packages)\n",
      "WARNING: Ignoring invalid distribution -atplotlib (c:\\users\\user\\anaconda3\\anaconda\\lib\\site-packages)\n",
      "WARNING: Ignoring invalid distribution -atplotlib (c:\\users\\user\\anaconda3\\anaconda\\lib\\site-packages)\n",
      "WARNING: Ignoring invalid distribution -atplotlib (c:\\users\\user\\anaconda3\\anaconda\\lib\\site-packages)\n",
      "WARNING: Ignoring invalid distribution -atplotlib (c:\\users\\user\\anaconda3\\anaconda\\lib\\site-packages)\n"
     ]
    }
   ],
   "source": [
    "#pip uninstall matplotlib seaborn\n",
    "!pip install matplotlib seaborn\n"
   ]
  },
  {
   "cell_type": "code",
   "execution_count": 13,
   "metadata": {},
   "outputs": [
    {
     "ename": "ImportError",
     "evalue": "cannot import name '_version_predates' from 'seaborn.utils' (c:\\Users\\User\\anaconda3\\Anaconda\\lib\\site-packages\\seaborn\\utils.py)",
     "output_type": "error",
     "traceback": [
      "\u001b[1;31m---------------------------------------------------------------------------\u001b[0m",
      "\u001b[1;31mImportError\u001b[0m                               Traceback (most recent call last)",
      "\u001b[1;32m~\\AppData\\Local\\Temp\\ipykernel_13356\\558240121.py\u001b[0m in \u001b[0;36m<module>\u001b[1;34m\u001b[0m\n\u001b[0;32m      5\u001b[0m \u001b[1;32mfrom\u001b[0m \u001b[0mplotly\u001b[0m\u001b[1;33m.\u001b[0m\u001b[0msubplots\u001b[0m \u001b[1;32mimport\u001b[0m \u001b[0mmake_subplots\u001b[0m\u001b[1;33m\u001b[0m\u001b[1;33m\u001b[0m\u001b[0m\n\u001b[0;32m      6\u001b[0m \u001b[1;32mimport\u001b[0m \u001b[0mplotly\u001b[0m\u001b[1;33m.\u001b[0m\u001b[0mexpress\u001b[0m \u001b[1;32mas\u001b[0m \u001b[0mpx\u001b[0m\u001b[1;33m\u001b[0m\u001b[1;33m\u001b[0m\u001b[0m\n\u001b[1;32m----> 7\u001b[1;33m \u001b[1;32mimport\u001b[0m \u001b[0mseaborn\u001b[0m \u001b[1;32mas\u001b[0m \u001b[0msns\u001b[0m\u001b[1;33m\u001b[0m\u001b[1;33m\u001b[0m\u001b[0m\n\u001b[0m\u001b[0;32m      8\u001b[0m \u001b[1;32mimport\u001b[0m \u001b[0mos\u001b[0m\u001b[1;33m\u001b[0m\u001b[1;33m\u001b[0m\u001b[0m\n\u001b[0;32m      9\u001b[0m \u001b[1;33m\u001b[0m\u001b[0m\n",
      "\u001b[1;32mc:\\Users\\User\\anaconda3\\Anaconda\\lib\\site-packages\\seaborn\\__init__.py\u001b[0m in \u001b[0;36m<module>\u001b[1;34m\u001b[0m\n\u001b[0;32m      7\u001b[0m \u001b[1;32mfrom\u001b[0m \u001b[1;33m.\u001b[0m\u001b[0mcategorical\u001b[0m \u001b[1;32mimport\u001b[0m \u001b[1;33m*\u001b[0m  \u001b[1;31m# noqa: F401,F403\u001b[0m\u001b[1;33m\u001b[0m\u001b[1;33m\u001b[0m\u001b[0m\n\u001b[0;32m      8\u001b[0m \u001b[1;32mfrom\u001b[0m \u001b[1;33m.\u001b[0m\u001b[0mdistributions\u001b[0m \u001b[1;32mimport\u001b[0m \u001b[1;33m*\u001b[0m  \u001b[1;31m# noqa: F401,F403\u001b[0m\u001b[1;33m\u001b[0m\u001b[1;33m\u001b[0m\u001b[0m\n\u001b[1;32m----> 9\u001b[1;33m \u001b[1;32mfrom\u001b[0m \u001b[1;33m.\u001b[0m\u001b[0mmatrix\u001b[0m \u001b[1;32mimport\u001b[0m \u001b[1;33m*\u001b[0m  \u001b[1;31m# noqa: F401,F403\u001b[0m\u001b[1;33m\u001b[0m\u001b[1;33m\u001b[0m\u001b[0m\n\u001b[0m\u001b[0;32m     10\u001b[0m \u001b[1;32mfrom\u001b[0m \u001b[1;33m.\u001b[0m\u001b[0mmiscplot\u001b[0m \u001b[1;32mimport\u001b[0m \u001b[1;33m*\u001b[0m  \u001b[1;31m# noqa: F401,F403\u001b[0m\u001b[1;33m\u001b[0m\u001b[1;33m\u001b[0m\u001b[0m\n\u001b[0;32m     11\u001b[0m \u001b[1;32mfrom\u001b[0m \u001b[1;33m.\u001b[0m\u001b[0maxisgrid\u001b[0m \u001b[1;32mimport\u001b[0m \u001b[1;33m*\u001b[0m  \u001b[1;31m# noqa: F401,F403\u001b[0m\u001b[1;33m\u001b[0m\u001b[1;33m\u001b[0m\u001b[0m\n",
      "\u001b[1;32mc:\\Users\\User\\anaconda3\\Anaconda\\lib\\site-packages\\seaborn\\matrix.py\u001b[0m in \u001b[0;36m<module>\u001b[1;34m\u001b[0m\n\u001b[0;32m     14\u001b[0m     \u001b[0m_no_scipy\u001b[0m \u001b[1;33m=\u001b[0m \u001b[1;32mTrue\u001b[0m\u001b[1;33m\u001b[0m\u001b[1;33m\u001b[0m\u001b[0m\n\u001b[0;32m     15\u001b[0m \u001b[1;33m\u001b[0m\u001b[0m\n\u001b[1;32m---> 16\u001b[1;33m \u001b[1;32mfrom\u001b[0m \u001b[1;33m.\u001b[0m \u001b[1;32mimport\u001b[0m \u001b[0mcm\u001b[0m\u001b[1;33m\u001b[0m\u001b[1;33m\u001b[0m\u001b[0m\n\u001b[0m\u001b[0;32m     17\u001b[0m \u001b[1;32mfrom\u001b[0m \u001b[1;33m.\u001b[0m\u001b[0maxisgrid\u001b[0m \u001b[1;32mimport\u001b[0m \u001b[0mGrid\u001b[0m\u001b[1;33m\u001b[0m\u001b[1;33m\u001b[0m\u001b[0m\n\u001b[0;32m     18\u001b[0m \u001b[1;32mfrom\u001b[0m \u001b[1;33m.\u001b[0m\u001b[0m_compat\u001b[0m \u001b[1;32mimport\u001b[0m \u001b[0mget_colormap\u001b[0m\u001b[1;33m\u001b[0m\u001b[1;33m\u001b[0m\u001b[0m\n",
      "\u001b[1;32mc:\\Users\\User\\anaconda3\\Anaconda\\lib\\site-packages\\seaborn\\cm.py\u001b[0m in \u001b[0;36m<module>\u001b[1;34m\u001b[0m\n\u001b[0;32m      1\u001b[0m \u001b[1;32mfrom\u001b[0m \u001b[0mmatplotlib\u001b[0m \u001b[1;32mimport\u001b[0m \u001b[0mcolors\u001b[0m\u001b[1;33m\u001b[0m\u001b[1;33m\u001b[0m\u001b[0m\n\u001b[1;32m----> 2\u001b[1;33m \u001b[1;32mfrom\u001b[0m \u001b[0mseaborn\u001b[0m\u001b[1;33m.\u001b[0m\u001b[0m_compat\u001b[0m \u001b[1;32mimport\u001b[0m \u001b[0mregister_colormap\u001b[0m\u001b[1;33m\u001b[0m\u001b[1;33m\u001b[0m\u001b[0m\n\u001b[0m\u001b[0;32m      3\u001b[0m \u001b[1;33m\u001b[0m\u001b[0m\n\u001b[0;32m      4\u001b[0m \u001b[1;33m\u001b[0m\u001b[0m\n\u001b[0;32m      5\u001b[0m _rocket_lut = [\n",
      "\u001b[1;32mc:\\Users\\User\\anaconda3\\Anaconda\\lib\\site-packages\\seaborn\\_compat.py\u001b[0m in \u001b[0;36m<module>\u001b[1;34m\u001b[0m\n\u001b[0;32m      6\u001b[0m \u001b[1;32mimport\u001b[0m \u001b[0mmatplotlib\u001b[0m \u001b[1;32mas\u001b[0m \u001b[0mmpl\u001b[0m\u001b[1;33m\u001b[0m\u001b[1;33m\u001b[0m\u001b[0m\n\u001b[0;32m      7\u001b[0m \u001b[1;32mfrom\u001b[0m \u001b[0mmatplotlib\u001b[0m\u001b[1;33m.\u001b[0m\u001b[0mfigure\u001b[0m \u001b[1;32mimport\u001b[0m \u001b[0mFigure\u001b[0m\u001b[1;33m\u001b[0m\u001b[1;33m\u001b[0m\u001b[0m\n\u001b[1;32m----> 8\u001b[1;33m \u001b[1;32mfrom\u001b[0m \u001b[0mseaborn\u001b[0m\u001b[1;33m.\u001b[0m\u001b[0mutils\u001b[0m \u001b[1;32mimport\u001b[0m \u001b[0m_version_predates\u001b[0m\u001b[1;33m\u001b[0m\u001b[1;33m\u001b[0m\u001b[0m\n\u001b[0m\u001b[0;32m      9\u001b[0m \u001b[1;33m\u001b[0m\u001b[0m\n\u001b[0;32m     10\u001b[0m \u001b[1;33m\u001b[0m\u001b[0m\n",
      "\u001b[1;31mImportError\u001b[0m: cannot import name '_version_predates' from 'seaborn.utils' (c:\\Users\\User\\anaconda3\\Anaconda\\lib\\site-packages\\seaborn\\utils.py)"
     ]
    }
   ],
   "source": [
    "import numpy as np\n",
    "import pandas as pd\n",
    "import matplotlib.pyplot as plt\n",
    "import plotly.graph_objects as go\n",
    "from plotly.subplots import make_subplots\n",
    "import plotly.express as px\n",
    "import seaborn as sns\n",
    "import os\n",
    "\n",
    "plt.style.use(\"seaborn-dark-palette\")"
   ]
  },
  {
   "cell_type": "markdown",
   "metadata": {},
   "source": [
    "# Loading the Dataset\n",
    "You load the dataset into a pandas DataFrame and examine the structure of the data:"
   ]
  },
  {
   "cell_type": "code",
   "execution_count": 4,
   "metadata": {},
   "outputs": [
    {
     "data": {
      "text/html": [
       "<div>\n",
       "<style scoped>\n",
       "    .dataframe tbody tr th:only-of-type {\n",
       "        vertical-align: middle;\n",
       "    }\n",
       "\n",
       "    .dataframe tbody tr th {\n",
       "        vertical-align: top;\n",
       "    }\n",
       "\n",
       "    .dataframe thead th {\n",
       "        text-align: right;\n",
       "    }\n",
       "</style>\n",
       "<table border=\"1\" class=\"dataframe\">\n",
       "  <thead>\n",
       "    <tr style=\"text-align: right;\">\n",
       "      <th></th>\n",
       "      <th>Date</th>\n",
       "      <th>Symbol</th>\n",
       "      <th>Open</th>\n",
       "      <th>High</th>\n",
       "      <th>Low</th>\n",
       "      <th>Close</th>\n",
       "      <th>Volume</th>\n",
       "      <th>Currency</th>\n",
       "    </tr>\n",
       "  </thead>\n",
       "  <tbody>\n",
       "    <tr>\n",
       "      <th>0</th>\n",
       "      <td>2000-01-03</td>\n",
       "      <td>XOM</td>\n",
       "      <td>39.75</td>\n",
       "      <td>40.38</td>\n",
       "      <td>38.94</td>\n",
       "      <td>39.16</td>\n",
       "      <td>13458200</td>\n",
       "      <td>USD</td>\n",
       "    </tr>\n",
       "    <tr>\n",
       "      <th>1</th>\n",
       "      <td>2000-01-04</td>\n",
       "      <td>XOM</td>\n",
       "      <td>38.69</td>\n",
       "      <td>39.09</td>\n",
       "      <td>38.25</td>\n",
       "      <td>38.41</td>\n",
       "      <td>14510800</td>\n",
       "      <td>USD</td>\n",
       "    </tr>\n",
       "    <tr>\n",
       "      <th>2</th>\n",
       "      <td>2000-01-05</td>\n",
       "      <td>XOM</td>\n",
       "      <td>39.00</td>\n",
       "      <td>40.88</td>\n",
       "      <td>38.91</td>\n",
       "      <td>40.50</td>\n",
       "      <td>17485000</td>\n",
       "      <td>USD</td>\n",
       "    </tr>\n",
       "    <tr>\n",
       "      <th>3</th>\n",
       "      <td>2000-01-06</td>\n",
       "      <td>XOM</td>\n",
       "      <td>40.31</td>\n",
       "      <td>42.91</td>\n",
       "      <td>40.09</td>\n",
       "      <td>42.59</td>\n",
       "      <td>19462000</td>\n",
       "      <td>USD</td>\n",
       "    </tr>\n",
       "    <tr>\n",
       "      <th>4</th>\n",
       "      <td>2000-01-07</td>\n",
       "      <td>XOM</td>\n",
       "      <td>42.97</td>\n",
       "      <td>43.12</td>\n",
       "      <td>42.00</td>\n",
       "      <td>42.47</td>\n",
       "      <td>16603800</td>\n",
       "      <td>USD</td>\n",
       "    </tr>\n",
       "    <tr>\n",
       "      <th>...</th>\n",
       "      <td>...</td>\n",
       "      <td>...</td>\n",
       "      <td>...</td>\n",
       "      <td>...</td>\n",
       "      <td>...</td>\n",
       "      <td>...</td>\n",
       "      <td>...</td>\n",
       "      <td>...</td>\n",
       "    </tr>\n",
       "    <tr>\n",
       "      <th>39196</th>\n",
       "      <td>2022-06-06</td>\n",
       "      <td>SLB</td>\n",
       "      <td>47.79</td>\n",
       "      <td>48.00</td>\n",
       "      <td>46.88</td>\n",
       "      <td>47.22</td>\n",
       "      <td>6696970</td>\n",
       "      <td>USD</td>\n",
       "    </tr>\n",
       "    <tr>\n",
       "      <th>39197</th>\n",
       "      <td>2022-06-07</td>\n",
       "      <td>SLB</td>\n",
       "      <td>47.00</td>\n",
       "      <td>49.08</td>\n",
       "      <td>46.87</td>\n",
       "      <td>48.93</td>\n",
       "      <td>14692203</td>\n",
       "      <td>USD</td>\n",
       "    </tr>\n",
       "    <tr>\n",
       "      <th>39198</th>\n",
       "      <td>2022-06-08</td>\n",
       "      <td>SLB</td>\n",
       "      <td>49.00</td>\n",
       "      <td>49.83</td>\n",
       "      <td>48.08</td>\n",
       "      <td>49.57</td>\n",
       "      <td>15067131</td>\n",
       "      <td>USD</td>\n",
       "    </tr>\n",
       "    <tr>\n",
       "      <th>39199</th>\n",
       "      <td>2022-06-09</td>\n",
       "      <td>SLB</td>\n",
       "      <td>48.79</td>\n",
       "      <td>49.16</td>\n",
       "      <td>48.10</td>\n",
       "      <td>48.14</td>\n",
       "      <td>11447491</td>\n",
       "      <td>USD</td>\n",
       "    </tr>\n",
       "    <tr>\n",
       "      <th>39200</th>\n",
       "      <td>2022-06-10</td>\n",
       "      <td>SLB</td>\n",
       "      <td>47.17</td>\n",
       "      <td>47.88</td>\n",
       "      <td>46.52</td>\n",
       "      <td>47.21</td>\n",
       "      <td>11291267</td>\n",
       "      <td>USD</td>\n",
       "    </tr>\n",
       "  </tbody>\n",
       "</table>\n",
       "<p>39201 rows × 8 columns</p>\n",
       "</div>"
      ],
      "text/plain": [
       "             Date Symbol   Open   High    Low  Close    Volume Currency\n",
       "0      2000-01-03    XOM  39.75  40.38  38.94  39.16  13458200      USD\n",
       "1      2000-01-04    XOM  38.69  39.09  38.25  38.41  14510800      USD\n",
       "2      2000-01-05    XOM  39.00  40.88  38.91  40.50  17485000      USD\n",
       "3      2000-01-06    XOM  40.31  42.91  40.09  42.59  19462000      USD\n",
       "4      2000-01-07    XOM  42.97  43.12  42.00  42.47  16603800      USD\n",
       "...           ...    ...    ...    ...    ...    ...       ...      ...\n",
       "39196  2022-06-06    SLB  47.79  48.00  46.88  47.22   6696970      USD\n",
       "39197  2022-06-07    SLB  47.00  49.08  46.87  48.93  14692203      USD\n",
       "39198  2022-06-08    SLB  49.00  49.83  48.08  49.57  15067131      USD\n",
       "39199  2022-06-09    SLB  48.79  49.16  48.10  48.14  11447491      USD\n",
       "39200  2022-06-10    SLB  47.17  47.88  46.52  47.21  11291267      USD\n",
       "\n",
       "[39201 rows x 8 columns]"
      ]
     },
     "execution_count": 4,
     "metadata": {},
     "output_type": "execute_result"
    }
   ],
   "source": [
    "df = pd.read_csv(r\"C:\\Users\\User\\Documents\\IRON HACK DA 2024\\IH-Labs W8\\Final-Project\\Data\\Raw data\\oil and gas stock prices.csv\")\n",
    "df"
   ]
  },
  {
   "cell_type": "code",
   "execution_count": 5,
   "metadata": {},
   "outputs": [
    {
     "data": {
      "text/html": [
       "<div>\n",
       "<style scoped>\n",
       "    .dataframe tbody tr th:only-of-type {\n",
       "        vertical-align: middle;\n",
       "    }\n",
       "\n",
       "    .dataframe tbody tr th {\n",
       "        vertical-align: top;\n",
       "    }\n",
       "\n",
       "    .dataframe thead th {\n",
       "        text-align: right;\n",
       "    }\n",
       "</style>\n",
       "<table border=\"1\" class=\"dataframe\">\n",
       "  <thead>\n",
       "    <tr style=\"text-align: right;\">\n",
       "      <th></th>\n",
       "      <th>Date</th>\n",
       "      <th>Symbol</th>\n",
       "      <th>Open</th>\n",
       "      <th>High</th>\n",
       "      <th>Low</th>\n",
       "      <th>Close</th>\n",
       "      <th>Volume</th>\n",
       "      <th>Currency</th>\n",
       "    </tr>\n",
       "  </thead>\n",
       "  <tbody>\n",
       "    <tr>\n",
       "      <th>0</th>\n",
       "      <td>2000-01-03</td>\n",
       "      <td>XOM</td>\n",
       "      <td>39.75</td>\n",
       "      <td>40.38</td>\n",
       "      <td>38.94</td>\n",
       "      <td>39.16</td>\n",
       "      <td>13458200</td>\n",
       "      <td>USD</td>\n",
       "    </tr>\n",
       "    <tr>\n",
       "      <th>1</th>\n",
       "      <td>2000-01-04</td>\n",
       "      <td>XOM</td>\n",
       "      <td>38.69</td>\n",
       "      <td>39.09</td>\n",
       "      <td>38.25</td>\n",
       "      <td>38.41</td>\n",
       "      <td>14510800</td>\n",
       "      <td>USD</td>\n",
       "    </tr>\n",
       "    <tr>\n",
       "      <th>2</th>\n",
       "      <td>2000-01-05</td>\n",
       "      <td>XOM</td>\n",
       "      <td>39.00</td>\n",
       "      <td>40.88</td>\n",
       "      <td>38.91</td>\n",
       "      <td>40.50</td>\n",
       "      <td>17485000</td>\n",
       "      <td>USD</td>\n",
       "    </tr>\n",
       "    <tr>\n",
       "      <th>3</th>\n",
       "      <td>2000-01-06</td>\n",
       "      <td>XOM</td>\n",
       "      <td>40.31</td>\n",
       "      <td>42.91</td>\n",
       "      <td>40.09</td>\n",
       "      <td>42.59</td>\n",
       "      <td>19462000</td>\n",
       "      <td>USD</td>\n",
       "    </tr>\n",
       "    <tr>\n",
       "      <th>4</th>\n",
       "      <td>2000-01-07</td>\n",
       "      <td>XOM</td>\n",
       "      <td>42.97</td>\n",
       "      <td>43.12</td>\n",
       "      <td>42.00</td>\n",
       "      <td>42.47</td>\n",
       "      <td>16603800</td>\n",
       "      <td>USD</td>\n",
       "    </tr>\n",
       "  </tbody>\n",
       "</table>\n",
       "</div>"
      ],
      "text/plain": [
       "         Date Symbol   Open   High    Low  Close    Volume Currency\n",
       "0  2000-01-03    XOM  39.75  40.38  38.94  39.16  13458200      USD\n",
       "1  2000-01-04    XOM  38.69  39.09  38.25  38.41  14510800      USD\n",
       "2  2000-01-05    XOM  39.00  40.88  38.91  40.50  17485000      USD\n",
       "3  2000-01-06    XOM  40.31  42.91  40.09  42.59  19462000      USD\n",
       "4  2000-01-07    XOM  42.97  43.12  42.00  42.47  16603800      USD"
      ]
     },
     "execution_count": 5,
     "metadata": {},
     "output_type": "execute_result"
    }
   ],
   "source": [
    "# Display the first few rows of the dataframe\n",
    "df.head()"
   ]
  },
  {
   "cell_type": "code",
   "execution_count": 6,
   "metadata": {},
   "outputs": [
    {
     "data": {
      "text/html": [
       "<div>\n",
       "<style scoped>\n",
       "    .dataframe tbody tr th:only-of-type {\n",
       "        vertical-align: middle;\n",
       "    }\n",
       "\n",
       "    .dataframe tbody tr th {\n",
       "        vertical-align: top;\n",
       "    }\n",
       "\n",
       "    .dataframe thead th {\n",
       "        text-align: right;\n",
       "    }\n",
       "</style>\n",
       "<table border=\"1\" class=\"dataframe\">\n",
       "  <thead>\n",
       "    <tr style=\"text-align: right;\">\n",
       "      <th></th>\n",
       "      <th>Date</th>\n",
       "      <th>Symbol</th>\n",
       "      <th>Open</th>\n",
       "      <th>High</th>\n",
       "      <th>Low</th>\n",
       "      <th>Close</th>\n",
       "      <th>Volume</th>\n",
       "      <th>Currency</th>\n",
       "    </tr>\n",
       "  </thead>\n",
       "  <tbody>\n",
       "    <tr>\n",
       "      <th>39196</th>\n",
       "      <td>2022-06-06</td>\n",
       "      <td>SLB</td>\n",
       "      <td>47.79</td>\n",
       "      <td>48.00</td>\n",
       "      <td>46.88</td>\n",
       "      <td>47.22</td>\n",
       "      <td>6696970</td>\n",
       "      <td>USD</td>\n",
       "    </tr>\n",
       "    <tr>\n",
       "      <th>39197</th>\n",
       "      <td>2022-06-07</td>\n",
       "      <td>SLB</td>\n",
       "      <td>47.00</td>\n",
       "      <td>49.08</td>\n",
       "      <td>46.87</td>\n",
       "      <td>48.93</td>\n",
       "      <td>14692203</td>\n",
       "      <td>USD</td>\n",
       "    </tr>\n",
       "    <tr>\n",
       "      <th>39198</th>\n",
       "      <td>2022-06-08</td>\n",
       "      <td>SLB</td>\n",
       "      <td>49.00</td>\n",
       "      <td>49.83</td>\n",
       "      <td>48.08</td>\n",
       "      <td>49.57</td>\n",
       "      <td>15067131</td>\n",
       "      <td>USD</td>\n",
       "    </tr>\n",
       "    <tr>\n",
       "      <th>39199</th>\n",
       "      <td>2022-06-09</td>\n",
       "      <td>SLB</td>\n",
       "      <td>48.79</td>\n",
       "      <td>49.16</td>\n",
       "      <td>48.10</td>\n",
       "      <td>48.14</td>\n",
       "      <td>11447491</td>\n",
       "      <td>USD</td>\n",
       "    </tr>\n",
       "    <tr>\n",
       "      <th>39200</th>\n",
       "      <td>2022-06-10</td>\n",
       "      <td>SLB</td>\n",
       "      <td>47.17</td>\n",
       "      <td>47.88</td>\n",
       "      <td>46.52</td>\n",
       "      <td>47.21</td>\n",
       "      <td>11291267</td>\n",
       "      <td>USD</td>\n",
       "    </tr>\n",
       "  </tbody>\n",
       "</table>\n",
       "</div>"
      ],
      "text/plain": [
       "             Date Symbol   Open   High    Low  Close    Volume Currency\n",
       "39196  2022-06-06    SLB  47.79  48.00  46.88  47.22   6696970      USD\n",
       "39197  2022-06-07    SLB  47.00  49.08  46.87  48.93  14692203      USD\n",
       "39198  2022-06-08    SLB  49.00  49.83  48.08  49.57  15067131      USD\n",
       "39199  2022-06-09    SLB  48.79  49.16  48.10  48.14  11447491      USD\n",
       "39200  2022-06-10    SLB  47.17  47.88  46.52  47.21  11291267      USD"
      ]
     },
     "execution_count": 6,
     "metadata": {},
     "output_type": "execute_result"
    }
   ],
   "source": [
    "# Display the last few rows of the dataframe\n",
    "df.tail()\n"
   ]
  },
  {
   "cell_type": "code",
   "execution_count": 7,
   "metadata": {},
   "outputs": [
    {
     "data": {
      "text/plain": [
       "(39201, 8)"
      ]
     },
     "execution_count": 7,
     "metadata": {},
     "output_type": "execute_result"
    }
   ],
   "source": [
    "# Display the shape of the dataframe\n",
    "df.shape"
   ]
  },
  {
   "cell_type": "code",
   "execution_count": 8,
   "metadata": {},
   "outputs": [
    {
     "data": {
      "text/plain": [
       "Index(['Date', 'Symbol', 'Open', 'High', 'Low', 'Close', 'Volume', 'Currency'], dtype='object')"
      ]
     },
     "execution_count": 8,
     "metadata": {},
     "output_type": "execute_result"
    }
   ],
   "source": [
    "df.columns"
   ]
  },
  {
   "cell_type": "code",
   "execution_count": 9,
   "metadata": {},
   "outputs": [
    {
     "data": {
      "text/plain": [
       "Date         5647\n",
       "Symbol          8\n",
       "Open        10964\n",
       "High        11013\n",
       "Low         10906\n",
       "Close       11066\n",
       "Volume      38380\n",
       "Currency        1\n",
       "dtype: int64"
      ]
     },
     "execution_count": 9,
     "metadata": {},
     "output_type": "execute_result"
    }
   ],
   "source": [
    "df.nunique()"
   ]
  },
  {
   "cell_type": "code",
   "execution_count": 10,
   "metadata": {},
   "outputs": [
    {
     "data": {
      "text/plain": [
       "Date        Symbol  Open    High    Low    Close   Volume    Currency\n",
       "2000-01-03  COP     17.72   17.77   17.25  17.27   1419600   USD         1\n",
       "2015-12-16  COP     50.30   50.84   49.12  49.35   11438912  USD         1\n",
       "2015-12-15  CVX     90.58   93.40   90.55  92.76   19158528  USD         1\n",
       "            MPC     48.96   49.74   48.35  49.16   9240229   USD         1\n",
       "            MRO     14.27   14.50   13.93  14.46   12972855  USD         1\n",
       "                                                                        ..\n",
       "2008-09-02  COP     61.28   61.43   59.83  60.22   12633445  USD         1\n",
       "            CVX     84.49   84.61   83.21  83.29   13445513  USD         1\n",
       "            MRO     26.56   27.00   26.10  26.13   5300560   USD         1\n",
       "            SLB     92.08   92.08   90.08  90.46   11913208  USD         1\n",
       "2022-06-10  XOM     101.94  103.35  99.79  100.46  30764130  USD         1\n",
       "Name: count, Length: 39201, dtype: int64"
      ]
     },
     "execution_count": 10,
     "metadata": {},
     "output_type": "execute_result"
    }
   ],
   "source": [
    "df.value_counts()"
   ]
  },
  {
   "cell_type": "code",
   "execution_count": null,
   "metadata": {},
   "outputs": [],
   "source": [
    "df.isna().sum()"
   ]
  },
  {
   "cell_type": "code",
   "execution_count": null,
   "metadata": {},
   "outputs": [],
   "source": [
    "df.duplicated().value_counts()"
   ]
  },
  {
   "cell_type": "code",
   "execution_count": null,
   "metadata": {},
   "outputs": [],
   "source": [
    "df['Volume']=df['Volume'].astype(float)"
   ]
  },
  {
   "cell_type": "code",
   "execution_count": null,
   "metadata": {},
   "outputs": [],
   "source": [
    "df.dtypes"
   ]
  },
  {
   "cell_type": "code",
   "execution_count": null,
   "metadata": {},
   "outputs": [],
   "source": [
    "# Data Information\n",
    "df.info()"
   ]
  },
  {
   "cell_type": "code",
   "execution_count": null,
   "metadata": {},
   "outputs": [],
   "source": [
    "df['Date'].unique()"
   ]
  },
  {
   "cell_type": "code",
   "execution_count": null,
   "metadata": {},
   "outputs": [],
   "source": [
    "df['Symbol'].unique()"
   ]
  },
  {
   "cell_type": "code",
   "execution_count": null,
   "metadata": {},
   "outputs": [],
   "source": [
    "df['Open'].unique()"
   ]
  },
  {
   "cell_type": "code",
   "execution_count": null,
   "metadata": {},
   "outputs": [],
   "source": [
    "df['High'].unique()"
   ]
  },
  {
   "cell_type": "code",
   "execution_count": null,
   "metadata": {},
   "outputs": [],
   "source": [
    "df['Low'].unique()"
   ]
  },
  {
   "cell_type": "code",
   "execution_count": null,
   "metadata": {},
   "outputs": [],
   "source": [
    "df['Volume'].unique()"
   ]
  },
  {
   "cell_type": "code",
   "execution_count": null,
   "metadata": {},
   "outputs": [],
   "source": [
    "df['Currency'].unique()"
   ]
  },
  {
   "cell_type": "code",
   "execution_count": null,
   "metadata": {},
   "outputs": [],
   "source": [
    "# Summary Statistics\n",
    "df.describe().style.background_gradient(cmap = \"cividis\")\n"
   ]
  },
  {
   "cell_type": "markdown",
   "metadata": {},
   "source": [
    "# Overview of the Dataset\n",
    "1. The dataset contains stock price data for several major US oil and gas companies.\n",
    "2. The companies include Exxon Mobil (XOM), Chevron (CVX), ConocoPhillips (COP), and others."
   ]
  },
  {
   "cell_type": "markdown",
   "metadata": {},
   "source": [
    "# Visualizing Stock Trading Data\n",
    "\n",
    "The script uses Plotly to visualize the distribution of trading attributes (e.g., Open, High, Volume) for each company over time:"
   ]
  },
  {
   "cell_type": "code",
   "execution_count": null,
   "metadata": {},
   "outputs": [],
   "source": [
    "# Histogram of trading attributes\n",
    "for y in [\"Open\", \"High\", \"Volume\"]: \n",
    "    fig = px.histogram(df, x=\"Date\", y=y, color=\"Symbol\",\n",
    "                       color_discrete_sequence=px.colors.qualitative.Set2,\n",
    "                       title=f\"Total Trading {y} Distribution of Major US Oil Companies\")\n",
    "    fig.update_layout(template=\"plotly_dark\", font=dict(family=\"PT Sans\", size=18))\n",
    "    fig.show()"
   ]
  },
  {
   "cell_type": "markdown",
   "metadata": {},
   "source": [
    "# Visualizing All Attributes Together\n",
    "You visualize all the attributes in the DataFrame as subplots, which is a quick way to inspect trends"
   ]
  },
  {
   "cell_type": "code",
   "execution_count": null,
   "metadata": {},
   "outputs": [],
   "source": [
    "\n",
    "df.plot(subplots=True, figsize=(12, 12), linewidth=1.5)\n",
    "plt.title(\"US Oil and Gas Stock Attributes\")\n",
    "plt.show()"
   ]
  },
  {
   "cell_type": "markdown",
   "metadata": {},
   "source": [
    "# Volume Trend Visualization\n",
    "A bar plot is used to visualize the trend of trading volume over time"
   ]
  },
  {
   "cell_type": "code",
   "execution_count": null,
   "metadata": {},
   "outputs": [],
   "source": [
    "\n",
    "fig, ax = plt.subplots(figsize=(12, 6))\n",
    "ax.bar(df[\"Date\"], df[\"Volume\"])\n",
    "ax.xaxis.set_major_locator(plt.MaxNLocator(15))\n",
    "ax.set_xlabel(\"Date\", fontsize=5)\n",
    "ax.set_ylabel(\"Volume\", fontsize=5)\n",
    "plt.title('Volume Trend', fontsize=20)\n",
    "plt.grid()\n",
    "plt.show()"
   ]
  },
  {
   "cell_type": "markdown",
   "metadata": {},
   "source": [
    "# Moving Averages\n",
    "You calculate and visualize the 20-day and 50-day moving averages of the opening prices"
   ]
  },
  {
   "cell_type": "code",
   "execution_count": null,
   "metadata": {},
   "outputs": [],
   "source": [
    "df[\"MA for 20 days\"] = df[\"Open\"].rolling(20).mean()\n",
    "df[\"MA for 50 days\"] = df[\"Open\"].rolling(50).mean()\n",
    "df.truncate(before=\"2010-01-01\", after=\"2022-06-10\")[[\"Close\", \"MA for 20 days\", \"MA for 50 days\"]].plot(subplots=False, figsize=(12, 6), linewidth=2)\n",
    "plt.grid()\n",
    "plt.show()"
   ]
  },
  {
   "cell_type": "markdown",
   "metadata": {},
   "source": [
    "# Distribution of Opening Prices\n",
    "Finally, you use Seaborn to plot the distribution of opening prices"
   ]
  },
  {
   "cell_type": "code",
   "execution_count": null,
   "metadata": {},
   "outputs": [],
   "source": [
    "\n",
    "sns.distplot(df[\"Open\"], color=\"#FFD500\")\n",
    "plt.title(\"Distribution of open prices of US Oil and Gas stocks\", fontweight=\"bold\", fontsize=20)\n",
    "plt.xlabel(\"Open Price\", fontsize=10)\n"
   ]
  },
  {
   "cell_type": "code",
   "execution_count": null,
   "metadata": {},
   "outputs": [],
   "source": [
    "count=1\n",
    "plt.subplots(figsize=(30,25))\n",
    "for i in df.columns:\n",
    "    if df[i].dtypes!='object':\n",
    "        plt.subplot(6,7,count)\n",
    "        sns.distplot(df[i])\n",
    "        count+=1\n",
    "\n",
    "plt.show()"
   ]
  },
  {
   "cell_type": "code",
   "execution_count": null,
   "metadata": {},
   "outputs": [],
   "source": [
    "count=1\n",
    "plt.subplots(figsize=(30,25))\n",
    "for i in df.columns:\n",
    "    if df[i].dtypes!='object':\n",
    "        plt.subplot(6,7,count)\n",
    "        sns.boxplot(df[i])\n",
    "        count+=1\n",
    "\n",
    "plt.show()"
   ]
  },
  {
   "cell_type": "code",
   "execution_count": null,
   "metadata": {},
   "outputs": [],
   "source": [
    "sns.pairplot(data=df)"
   ]
  },
  {
   "cell_type": "markdown",
   "metadata": {},
   "source": [
    "# Summary Statistics\n",
    "You print out the maximum and minimum opening prices"
   ]
  },
  {
   "cell_type": "code",
   "execution_count": null,
   "metadata": {},
   "outputs": [],
   "source": [
    "# Summary Statistics\n",
    "print(\"Maximum open price of stock ever obtained:\", df[\"Open\"].max())\n",
    "print(\"Minimum open price of stock ever obtained:\", df[\"Open\"].min())"
   ]
  },
  {
   "cell_type": "markdown",
   "metadata": {},
   "source": [
    "# Missing Data Handling\n",
    "First, check for any missing data and decide how to handle it:\n",
    "\n",
    "\n",
    "If the amount of missing data is small, you might opt to drop those rows.\n",
    "\n",
    "For larger gaps, consider forward or backward filling, or more sophisticated methods like interpolation."
   ]
  },
  {
   "cell_type": "code",
   "execution_count": null,
   "metadata": {},
   "outputs": [],
   "source": [
    "# Check for missing values\n",
    "missing_data = df.isnull().sum()\n",
    "print(missing_data)"
   ]
  },
  {
   "cell_type": "code",
   "execution_count": null,
   "metadata": {},
   "outputs": [],
   "source": [
    "# Visualize missing data\n",
    "sns.heatmap(df.isnull(), cbar=False, cmap=\"viridis\")"
   ]
  },
  {
   "cell_type": "code",
   "execution_count": null,
   "metadata": {},
   "outputs": [],
   "source": [
    "# Drop rows with missing values\n",
    "df_cleaned = df.dropna()"
   ]
  },
  {
   "cell_type": "markdown",
   "metadata": {},
   "source": [
    "# Correlation Analysis\n",
    "\n",
    "Explore how the stock attributes correlate with each other. This can help identify patterns or redundancy in the data.\n",
    "\n",
    "Interpretation:\n",
    "\n",
    "Look for high correlations that might indicate multicollinearity.   \n",
    "\n",
    "Investigate any unexpected correlations that could lead to new insights."
   ]
  },
  {
   "cell_type": "code",
   "execution_count": null,
   "metadata": {},
   "outputs": [],
   "source": [
    "\n",
    "# Calculate correlation matrix\n",
    "corr_matrix = df.corr()"
   ]
  },
  {
   "cell_type": "code",
   "execution_count": null,
   "metadata": {},
   "outputs": [],
   "source": [
    "# Visualize correlation matrix using a heatmap\n",
    "plt.figure(figsize=(10, 8))\n",
    "sns.heatmap(corr_matrix, annot=True, cmap=\"coolwarm\", linewidths=0.5)\n",
    "plt.title(\"Correlation Matrix of Stock Attributes\", fontsize=18)\n",
    "plt.show()"
   ]
  },
  {
   "cell_type": "markdown",
   "metadata": {},
   "source": [
    "# Time Series Analysis\n",
    "Decompose the time series data to analyze trends, seasonality, and residuals."
   ]
  },
  {
   "cell_type": "code",
   "execution_count": null,
   "metadata": {},
   "outputs": [],
   "source": [
    "# Decompose the time series data\n",
    "from statsmodels.tsa.seasonal import seasonal_decompose\n",
    "decomposed = seasonal_decompose(df['Close'], model='multiplicative', period=365)\n"
   ]
  },
  {
   "cell_type": "code",
   "execution_count": null,
   "metadata": {},
   "outputs": [],
   "source": [
    "# Plot the decomposed components\n",
    "decomposed.plot()\n",
    "plt.suptitle('Time Series Decomposition of Close Price', fontsize=18)\n",
    "plt.show()"
   ]
  },
  {
   "cell_type": "markdown",
   "metadata": {},
   "source": [
    "# Comparison of Companies\n",
    "\n",
    "Use visualizations to compare stock price trends, volatilities, and other key metrics across different companies."
   ]
  },
  {
   "cell_type": "code",
   "execution_count": null,
   "metadata": {},
   "outputs": [],
   "source": [
    "# Closing Price Trends\n",
    "fig = px.line(df, x=\"Date\", y=\"Close\", color=\"Symbol\", title=\"Closing Price Trends of Major US Oil Companies\")\n",
    "fig.update_layout(template=\"plotly_dark\", font=dict(family=\"PT Sans\", size=18))\n",
    "fig.show()"
   ]
  },
  {
   "cell_type": "code",
   "execution_count": null,
   "metadata": {},
   "outputs": [],
   "source": [
    "# Boxplot to Compare Volatilities\n",
    "plt.figure(figsize=(12, 6))\n",
    "sns.boxplot(x=\"Symbol\", y=\"Close\", data=df)\n",
    "plt.title(\"Volatility Comparison of Closing Prices\", fontsize=18)\n",
    "plt.show()"
   ]
  },
  {
   "cell_type": "markdown",
   "metadata": {},
   "source": [
    "Insights:\n",
    "\n",
    "Identify which companies have the most stable or volatile stock prices.\n",
    "\n",
    "Compare the overall performance of different companies."
   ]
  },
  {
   "cell_type": "markdown",
   "metadata": {},
   "source": [
    "# Outlier Detection\n",
    "Identify and visualize any outliers in the data"
   ]
  },
  {
   "cell_type": "code",
   "execution_count": null,
   "metadata": {},
   "outputs": [],
   "source": [
    "# Boxplot to Identify Outliers\n",
    "plt.figure(figsize=(12, 6))\n",
    "sns.boxplot(data=df[['Open', 'High', 'Low', 'Close', 'Volume']])\n",
    "plt.title('Outlier Detection in Stock Attributes', fontsize=18)\n",
    "plt.show()"
   ]
  },
  {
   "cell_type": "code",
   "execution_count": null,
   "metadata": {},
   "outputs": [],
   "source": [
    "# Using Z-scores for Outlier Detection\n",
    "from scipy import stats\n",
    "\n",
    "z_scores = np.abs(stats.zscore(df[['Open', 'High', 'Low', 'Close', 'Volume']]))\n",
    "outliers = np.where(z_scores > 3)\n",
    "print(f\"Outliers Detected:\\n{outliers}\")"
   ]
  },
  {
   "cell_type": "markdown",
   "metadata": {},
   "source": [
    " Handling Outliers:\n",
    "\n",
    "Decide whether to remove or adjust outliers based on their impact on the analysis."
   ]
  },
  {
   "cell_type": "markdown",
   "metadata": {},
   "source": [
    "# Interactive Dashboards with Dash\n",
    "Consider building a Dash app for more interactive exploration.\n",
    "Benefits:\n",
    "\n",
    "Users can select different companies to compare.\n",
    "\n",
    "Provides a more interactive way to explore the data."
   ]
  },
  {
   "cell_type": "code",
   "execution_count": null,
   "metadata": {},
   "outputs": [],
   "source": [
    "# Installation of Dash (if not already installed)\n",
    "!pip install jupyter-dash\n",
    "\n"
   ]
  },
  {
   "cell_type": "code",
   "execution_count": null,
   "metadata": {},
   "outputs": [],
   "source": [
    "from jupyter_dash import JupyterDash\n",
    "from dash import dcc, html\n",
    "from dash.dependencies import Input, Output\n",
    "import plotly.express as px\n",
    "\n",
    "# Initialize the JupyterDash app\n",
    "app = JupyterDash(__name__)\n",
    "\n",
    "# Layout of the app\n",
    "app.layout = html.Div([\n",
    "    dcc.Graph(id='price-time-series'),\n",
    "    dcc.Dropdown(\n",
    "        id='company-selector',\n",
    "        options=[{'label': symbol, 'value': symbol} for symbol in df['Symbol'].unique()],\n",
    "        value='XOM',  # Default value\n",
    "        multi=True\n",
    "    )\n",
    "])\n",
    "\n",
    "# Callback for updating the time series based on selected company\n",
    "@app.callback(\n",
    "    Output('price-time-series', 'figure'),\n",
    "    Input('company-selector', 'value')\n",
    ")\n",
    "def update_graph(selected_symbols):\n",
    "    if isinstance(selected_symbols, str):\n",
    "        selected_symbols = [selected_symbols]\n",
    "        \n",
    "    filtered_df = df[df['Symbol'].isin(selected_symbols)]\n",
    "    fig = px.line(filtered_df, x='Date', y='Close', color='Symbol')\n",
    "    return fig\n",
    "\n",
    "# Run the app in Jupyter notebook\n",
    "app.run_server(mode='inline', port=8090)\n"
   ]
  },
  {
   "cell_type": "markdown",
   "metadata": {},
   "source": [
    "# Make Future Predictions:\n",
    "You need to create a DataFrame to hold the future dates where you want predictions."
   ]
  },
  {
   "cell_type": "code",
   "execution_count": null,
   "metadata": {},
   "outputs": [],
   "source": [
    "pip install prophet\n"
   ]
  },
  {
   "cell_type": "code",
   "execution_count": null,
   "metadata": {},
   "outputs": [],
   "source": [
    "from prophet import Prophet\n",
    "import pandas as pd\n"
   ]
  },
  {
   "cell_type": "code",
   "execution_count": null,
   "metadata": {},
   "outputs": [],
   "source": [
    "# Assuming your data is in a DataFrame `df` with 'Date' and 'Value' columns\n",
    "df = pd.read_csv(r'C:\\Users\\User\\Documents\\IRON HACK DA 2024\\IH-Labs W8\\Final-Project\\Data\\Raw data\\oil and gas stock prices.csv')\n",
    "df.rename(columns={'Date': 'ds', 'Volume': 'y'}, inplace=True)\n"
   ]
  },
  {
   "cell_type": "code",
   "execution_count": null,
   "metadata": {},
   "outputs": [],
   "source": [
    "print(df.columns)\n"
   ]
  },
  {
   "cell_type": "code",
   "execution_count": null,
   "metadata": {},
   "outputs": [],
   "source": [
    "\n",
    "# Convert 'ds' column to datetime\n",
    "df['ds'] = pd.to_datetime(df['ds'])\n",
    "\n",
    "# Ensure 'y' column is numeric\n",
    "df['y'] = pd.to_numeric(df['y'], errors='coerce')\n",
    "\n",
    "# Drop any rows with NaN values that might have been introduced during conversion\n",
    "df.dropna(inplace=True)\n"
   ]
  },
  {
   "cell_type": "markdown",
   "metadata": {},
   "source": [
    "# Future Predictions:\n",
    "\n",
    "Initialize Prophet model"
   ]
  },
  {
   "cell_type": "code",
   "execution_count": null,
   "metadata": {},
   "outputs": [],
   "source": [
    "\n",
    "# Initialize Prophet model\n",
    "m = Prophet()\n",
    "\n",
    "# Fit the model\n",
    "m.fit(df)\n",
    "\n",
    "# Make future predictions\n",
    "future = m.make_future_dataframe(periods=365)\n",
    "forecast = m.predict(future)\n",
    "\n",
    "# Plot the forecast\n",
    "m.plot(forecast)\n",
    "m.plot_components(forecast)\n"
   ]
  }
 ],
 "metadata": {
  "kernelspec": {
   "display_name": "Python 3",
   "language": "python",
   "name": "python3"
  },
  "language_info": {
   "codemirror_mode": {
    "name": "ipython",
    "version": 3
   },
   "file_extension": ".py",
   "mimetype": "text/x-python",
   "name": "python",
   "nbconvert_exporter": "python",
   "pygments_lexer": "ipython3",
   "version": "3.9.13"
  }
 },
 "nbformat": 4,
 "nbformat_minor": 2
}
