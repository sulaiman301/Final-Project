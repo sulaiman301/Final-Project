{
 "cells": [
  {
   "cell_type": "markdown",
   "metadata": {},
   "source": [
    "# Major US Oil and Gas Stock Price EDA"
   ]
  },
  {
   "cell_type": "markdown",
   "metadata": {},
   "source": [
    "\n",
    "This script performs exploratory data analysis (EDA) on the stock prices of major US oil and gas companies.\n",
    " Below is a breakdown of the process and key steps, along with some improvements and potential additional analysis you might consider."
   ]
  },
  {
   "cell_type": "markdown",
   "metadata": {},
   "source": [
    "# Importing Necessary Libraries"
   ]
  },
  {
   "cell_type": "code",
   "execution_count": 3,
   "metadata": {},
   "outputs": [
    {
     "name": "stdout",
     "output_type": "stream",
     "text": [
      "Requirement already satisfied: matplotlib in c:\\users\\user\\anaconda3\\anaconda 4\\envs\\env_petrol\\lib\\site-packages (3.8.4)Note: you may need to restart the kernel to use updated packages.\n",
      "\n",
      "Collecting matplotlib\n",
      "  Downloading matplotlib-3.9.2-cp311-cp311-win_amd64.whl.metadata (11 kB)\n",
      "Requirement already satisfied: contourpy>=1.0.1 in c:\\users\\user\\anaconda3\\anaconda 4\\envs\\env_petrol\\lib\\site-packages (from matplotlib) (1.2.0)\n",
      "Requirement already satisfied: cycler>=0.10 in c:\\users\\user\\anaconda3\\anaconda 4\\envs\\env_petrol\\lib\\site-packages (from matplotlib) (0.11.0)\n",
      "Requirement already satisfied: fonttools>=4.22.0 in c:\\users\\user\\anaconda3\\anaconda 4\\envs\\env_petrol\\lib\\site-packages (from matplotlib) (4.51.0)\n",
      "Requirement already satisfied: kiwisolver>=1.3.1 in c:\\users\\user\\anaconda3\\anaconda 4\\envs\\env_petrol\\lib\\site-packages (from matplotlib) (1.4.4)\n",
      "Requirement already satisfied: numpy>=1.23 in c:\\users\\user\\anaconda3\\anaconda 4\\envs\\env_petrol\\lib\\site-packages (from matplotlib) (1.26.4)\n",
      "Requirement already satisfied: packaging>=20.0 in c:\\users\\user\\anaconda3\\anaconda 4\\envs\\env_petrol\\lib\\site-packages (from matplotlib) (24.1)\n",
      "Requirement already satisfied: pillow>=8 in c:\\users\\user\\anaconda3\\anaconda 4\\envs\\env_petrol\\lib\\site-packages (from matplotlib) (10.4.0)\n",
      "Requirement already satisfied: pyparsing>=2.3.1 in c:\\users\\user\\anaconda3\\anaconda 4\\envs\\env_petrol\\lib\\site-packages (from matplotlib) (3.0.9)\n",
      "Requirement already satisfied: python-dateutil>=2.7 in c:\\users\\user\\anaconda3\\anaconda 4\\envs\\env_petrol\\lib\\site-packages (from matplotlib) (2.9.0.post0)\n",
      "Requirement already satisfied: six>=1.5 in c:\\users\\user\\anaconda3\\anaconda 4\\envs\\env_petrol\\lib\\site-packages (from python-dateutil>=2.7->matplotlib) (1.16.0)\n",
      "Downloading matplotlib-3.9.2-cp311-cp311-win_amd64.whl (7.8 MB)\n",
      "   ---------------------------------------- 0.0/7.8 MB ? eta -:--:--\n",
      "   -- ------------------------------------- 0.5/7.8 MB 3.4 MB/s eta 0:00:03\n",
      "   ----- ---------------------------------- 1.0/7.8 MB 3.9 MB/s eta 0:00:02\n",
      "   ---------- ----------------------------- 2.1/7.8 MB 3.7 MB/s eta 0:00:02\n",
      "   ------------ --------------------------- 2.4/7.8 MB 3.2 MB/s eta 0:00:02\n",
      "   ------------- -------------------------- 2.6/7.8 MB 2.7 MB/s eta 0:00:02\n",
      "   ------------- -------------------------- 2.6/7.8 MB 2.7 MB/s eta 0:00:02\n",
      "   ------------- -------------------------- 2.6/7.8 MB 2.7 MB/s eta 0:00:02\n",
      "   -------------- ------------------------- 2.9/7.8 MB 1.7 MB/s eta 0:00:03\n",
      "   ---------------- ----------------------- 3.1/7.8 MB 1.7 MB/s eta 0:00:03\n",
      "   -------------------- ------------------- 3.9/7.8 MB 1.9 MB/s eta 0:00:03\n",
      "   ---------------------- ----------------- 4.5/7.8 MB 1.9 MB/s eta 0:00:02\n",
      "   ------------------------ --------------- 4.7/7.8 MB 1.9 MB/s eta 0:00:02\n",
      "   ------------------------ --------------- 4.7/7.8 MB 1.9 MB/s eta 0:00:02\n",
      "   ---------------------------- ----------- 5.5/7.8 MB 1.8 MB/s eta 0:00:02\n",
      "   -------------------------------- ------- 6.3/7.8 MB 1.9 MB/s eta 0:00:01\n",
      "   --------------------------------- ------ 6.6/7.8 MB 1.9 MB/s eta 0:00:01\n",
      "   ------------------------------------ --- 7.1/7.8 MB 2.0 MB/s eta 0:00:01\n",
      "   -------------------------------------- - 7.6/7.8 MB 2.0 MB/s eta 0:00:01\n",
      "   ---------------------------------------- 7.8/7.8 MB 2.0 MB/s eta 0:00:00\n",
      "Installing collected packages: matplotlib\n",
      "  Attempting uninstall: matplotlib\n",
      "    Found existing installation: matplotlib 3.8.4\n",
      "    Uninstalling matplotlib-3.8.4:\n",
      "      Successfully uninstalled matplotlib-3.8.4\n",
      "Successfully installed matplotlib-3.9.2\n"
     ]
    }
   ],
   "source": [
    "pip install --upgrade matplotlib\n"
   ]
  },
  {
   "cell_type": "code",
   "execution_count": 4,
   "metadata": {},
   "outputs": [
    {
     "name": "stdout",
     "output_type": "stream",
     "text": [
      "Requirement already satisfied: seaborn in c:\\users\\user\\anaconda3\\anaconda 4\\envs\\env_petrol\\lib\\site-packages (0.13.2)Note: you may need to restart the kernel to use updated packages.\n",
      "\n",
      "Requirement already satisfied: numpy!=1.24.0,>=1.20 in c:\\users\\user\\anaconda3\\anaconda 4\\envs\\env_petrol\\lib\\site-packages (from seaborn) (1.26.4)\n",
      "Requirement already satisfied: pandas>=1.2 in c:\\users\\user\\anaconda3\\anaconda 4\\envs\\env_petrol\\lib\\site-packages (from seaborn) (2.2.2)\n",
      "Requirement already satisfied: matplotlib!=3.6.1,>=3.4 in c:\\users\\user\\anaconda3\\anaconda 4\\envs\\env_petrol\\lib\\site-packages (from seaborn) (3.9.2)\n",
      "Requirement already satisfied: contourpy>=1.0.1 in c:\\users\\user\\anaconda3\\anaconda 4\\envs\\env_petrol\\lib\\site-packages (from matplotlib!=3.6.1,>=3.4->seaborn) (1.2.0)\n",
      "Requirement already satisfied: cycler>=0.10 in c:\\users\\user\\anaconda3\\anaconda 4\\envs\\env_petrol\\lib\\site-packages (from matplotlib!=3.6.1,>=3.4->seaborn) (0.11.0)\n",
      "Requirement already satisfied: fonttools>=4.22.0 in c:\\users\\user\\anaconda3\\anaconda 4\\envs\\env_petrol\\lib\\site-packages (from matplotlib!=3.6.1,>=3.4->seaborn) (4.51.0)\n",
      "Requirement already satisfied: kiwisolver>=1.3.1 in c:\\users\\user\\anaconda3\\anaconda 4\\envs\\env_petrol\\lib\\site-packages (from matplotlib!=3.6.1,>=3.4->seaborn) (1.4.4)\n",
      "Requirement already satisfied: packaging>=20.0 in c:\\users\\user\\anaconda3\\anaconda 4\\envs\\env_petrol\\lib\\site-packages (from matplotlib!=3.6.1,>=3.4->seaborn) (24.1)\n",
      "Requirement already satisfied: pillow>=8 in c:\\users\\user\\anaconda3\\anaconda 4\\envs\\env_petrol\\lib\\site-packages (from matplotlib!=3.6.1,>=3.4->seaborn) (10.4.0)\n",
      "Requirement already satisfied: pyparsing>=2.3.1 in c:\\users\\user\\anaconda3\\anaconda 4\\envs\\env_petrol\\lib\\site-packages (from matplotlib!=3.6.1,>=3.4->seaborn) (3.0.9)\n",
      "Requirement already satisfied: python-dateutil>=2.7 in c:\\users\\user\\anaconda3\\anaconda 4\\envs\\env_petrol\\lib\\site-packages (from matplotlib!=3.6.1,>=3.4->seaborn) (2.9.0.post0)\n",
      "Requirement already satisfied: pytz>=2020.1 in c:\\users\\user\\anaconda3\\anaconda 4\\envs\\env_petrol\\lib\\site-packages (from pandas>=1.2->seaborn) (2024.1)\n",
      "Requirement already satisfied: tzdata>=2022.7 in c:\\users\\user\\anaconda3\\anaconda 4\\envs\\env_petrol\\lib\\site-packages (from pandas>=1.2->seaborn) (2023.3)\n",
      "Requirement already satisfied: six>=1.5 in c:\\users\\user\\anaconda3\\anaconda 4\\envs\\env_petrol\\lib\\site-packages (from python-dateutil>=2.7->matplotlib!=3.6.1,>=3.4->seaborn) (1.16.0)\n"
     ]
    }
   ],
   "source": [
    "pip install --upgrade seaborn\n"
   ]
  },
  {
   "cell_type": "code",
   "execution_count": 5,
   "metadata": {},
   "outputs": [
    {
     "name": "stdout",
     "output_type": "stream",
     "text": [
      "Collecting matplotlib==3.6.0\n",
      "  Downloading matplotlib-3.6.0-cp311-cp311-win_amd64.whl.metadata (6.8 kB)\n",
      "Collecting seaborn==0.12.0\n",
      "  Downloading seaborn-0.12.0-py3-none-any.whl.metadata (4.7 kB)\n",
      "Requirement already satisfied: contourpy>=1.0.1 in c:\\users\\user\\anaconda3\\anaconda 4\\envs\\env_petrol\\lib\\site-packages (from matplotlib==3.6.0) (1.2.0)\n",
      "Requirement already satisfied: cycler>=0.10 in c:\\users\\user\\anaconda3\\anaconda 4\\envs\\env_petrol\\lib\\site-packages (from matplotlib==3.6.0) (0.11.0)\n",
      "Requirement already satisfied: fonttools>=4.22.0 in c:\\users\\user\\anaconda3\\anaconda 4\\envs\\env_petrol\\lib\\site-packages (from matplotlib==3.6.0) (4.51.0)\n",
      "Requirement already satisfied: kiwisolver>=1.0.1 in c:\\users\\user\\anaconda3\\anaconda 4\\envs\\env_petrol\\lib\\site-packages (from matplotlib==3.6.0) (1.4.4)\n",
      "Requirement already satisfied: numpy>=1.19 in c:\\users\\user\\anaconda3\\anaconda 4\\envs\\env_petrol\\lib\\site-packages (from matplotlib==3.6.0) (1.26.4)\n",
      "Requirement already satisfied: packaging>=20.0 in c:\\users\\user\\anaconda3\\anaconda 4\\envs\\env_petrol\\lib\\site-packages (from matplotlib==3.6.0) (24.1)\n",
      "Requirement already satisfied: pillow>=6.2.0 in c:\\users\\user\\anaconda3\\anaconda 4\\envs\\env_petrol\\lib\\site-packages (from matplotlib==3.6.0) (10.4.0)\n",
      "Requirement already satisfied: pyparsing>=2.2.1 in c:\\users\\user\\anaconda3\\anaconda 4\\envs\\env_petrol\\lib\\site-packages (from matplotlib==3.6.0) (3.0.9)\n",
      "Requirement already satisfied: python-dateutil>=2.7 in c:\\users\\user\\anaconda3\\anaconda 4\\envs\\env_petrol\\lib\\site-packages (from matplotlib==3.6.0) (2.9.0.post0)\n",
      "Requirement already satisfied: pandas>=0.25 in c:\\users\\user\\anaconda3\\anaconda 4\\envs\\env_petrol\\lib\\site-packages (from seaborn==0.12.0) (2.2.2)\n",
      "Requirement already satisfied: pytz>=2020.1 in c:\\users\\user\\anaconda3\\anaconda 4\\envs\\env_petrol\\lib\\site-packages (from pandas>=0.25->seaborn==0.12.0) (2024.1)\n",
      "Requirement already satisfied: tzdata>=2022.7 in c:\\users\\user\\anaconda3\\anaconda 4\\envs\\env_petrol\\lib\\site-packages (from pandas>=0.25->seaborn==0.12.0) (2023.3)\n",
      "Requirement already satisfied: six>=1.5 in c:\\users\\user\\anaconda3\\anaconda 4\\envs\\env_petrol\\lib\\site-packages (from python-dateutil>=2.7->matplotlib==3.6.0) (1.16.0)\n",
      "Downloading matplotlib-3.6.0-cp311-cp311-win_amd64.whl (7.2 MB)\n",
      "   ---------------------------------------- 0.0/7.2 MB ? eta -:--:--\n",
      "   ----- ---------------------------------- 1.0/7.2 MB 8.4 MB/s eta 0:00:01\n",
      "   ---------- ----------------------------- 1.8/7.2 MB 6.3 MB/s eta 0:00:01\n",
      "   -------------------- ------------------- 3.7/7.2 MB 6.2 MB/s eta 0:00:01\n",
      "   --------------------------- ------------ 5.0/7.2 MB 6.2 MB/s eta 0:00:01\n",
      "   --------------------------------- ------ 6.0/7.2 MB 6.4 MB/s eta 0:00:01\n",
      "   ---------------------------------- ----- 6.3/7.2 MB 6.1 MB/s eta 0:00:01\n",
      "   ---------------------------------- ----- 6.3/7.2 MB 6.1 MB/s eta 0:00:01\n",
      "   ---------------------------------------  7.1/7.2 MB 4.4 MB/s eta 0:00:01\n",
      "   ---------------------------------------- 7.2/7.2 MB 3.9 MB/s eta 0:00:00\n",
      "Downloading seaborn-0.12.0-py3-none-any.whl (285 kB)\n",
      "Installing collected packages: matplotlib, seaborn\n",
      "  Attempting uninstall: matplotlib\n",
      "    Found existing installation: matplotlib 3.9.2\n",
      "    Uninstalling matplotlib-3.9.2:\n",
      "      Successfully uninstalled matplotlib-3.9.2\n",
      "  Attempting uninstall: seaborn\n",
      "    Found existing installation: seaborn 0.13.2\n",
      "    Uninstalling seaborn-0.13.2:\n",
      "      Successfully uninstalled seaborn-0.13.2\n",
      "Successfully installed matplotlib-3.6.0 seaborn-0.12.0\n",
      "Note: you may need to restart the kernel to use updated packages.\n"
     ]
    }
   ],
   "source": [
    "pip install matplotlib==3.6.0 seaborn==0.12.0\n"
   ]
  },
  {
   "cell_type": "code",
   "execution_count": 6,
   "metadata": {},
   "outputs": [
    {
     "name": "stdout",
     "output_type": "stream",
     "text": [
      "Requirement already satisfied: matplotlib==3.6.0 in c:\\users\\user\\anaconda3\\anaconda 4\\envs\\env_petrol\\lib\\site-packages (3.6.0)\n",
      "Requirement already satisfied: seaborn==0.12.0 in c:\\users\\user\\anaconda3\\anaconda 4\\envs\\env_petrol\\lib\\site-packages (0.12.0)\n",
      "Requirement already satisfied: contourpy>=1.0.1 in c:\\users\\user\\anaconda3\\anaconda 4\\envs\\env_petrol\\lib\\site-packages (from matplotlib==3.6.0) (1.2.0)\n",
      "Requirement already satisfied: cycler>=0.10 in c:\\users\\user\\anaconda3\\anaconda 4\\envs\\env_petrol\\lib\\site-packages (from matplotlib==3.6.0) (0.11.0)\n",
      "Requirement already satisfied: fonttools>=4.22.0 in c:\\users\\user\\anaconda3\\anaconda 4\\envs\\env_petrol\\lib\\site-packages (from matplotlib==3.6.0) (4.51.0)\n",
      "Requirement already satisfied: kiwisolver>=1.0.1 in c:\\users\\user\\anaconda3\\anaconda 4\\envs\\env_petrol\\lib\\site-packages (from matplotlib==3.6.0) (1.4.4)\n",
      "Requirement already satisfied: numpy>=1.19 in c:\\users\\user\\anaconda3\\anaconda 4\\envs\\env_petrol\\lib\\site-packages (from matplotlib==3.6.0) (1.26.4)\n",
      "Requirement already satisfied: packaging>=20.0 in c:\\users\\user\\anaconda3\\anaconda 4\\envs\\env_petrol\\lib\\site-packages (from matplotlib==3.6.0) (24.1)\n",
      "Requirement already satisfied: pillow>=6.2.0 in c:\\users\\user\\anaconda3\\anaconda 4\\envs\\env_petrol\\lib\\site-packages (from matplotlib==3.6.0) (10.4.0)\n",
      "Requirement already satisfied: pyparsing>=2.2.1 in c:\\users\\user\\anaconda3\\anaconda 4\\envs\\env_petrol\\lib\\site-packages (from matplotlib==3.6.0) (3.0.9)\n",
      "Requirement already satisfied: python-dateutil>=2.7 in c:\\users\\user\\anaconda3\\anaconda 4\\envs\\env_petrol\\lib\\site-packages (from matplotlib==3.6.0) (2.9.0.post0)\n",
      "Requirement already satisfied: pandas>=0.25 in c:\\users\\user\\anaconda3\\anaconda 4\\envs\\env_petrol\\lib\\site-packages (from seaborn==0.12.0) (2.2.2)\n",
      "Requirement already satisfied: pytz>=2020.1 in c:\\users\\user\\anaconda3\\anaconda 4\\envs\\env_petrol\\lib\\site-packages (from pandas>=0.25->seaborn==0.12.0) (2024.1)\n",
      "Requirement already satisfied: tzdata>=2022.7 in c:\\users\\user\\anaconda3\\anaconda 4\\envs\\env_petrol\\lib\\site-packages (from pandas>=0.25->seaborn==0.12.0) (2023.3)\n",
      "Requirement already satisfied: six>=1.5 in c:\\users\\user\\anaconda3\\anaconda 4\\envs\\env_petrol\\lib\\site-packages (from python-dateutil>=2.7->matplotlib==3.6.0) (1.16.0)\n",
      "Note: you may need to restart the kernel to use updated packages.\n"
     ]
    }
   ],
   "source": [
    "pip install matplotlib==3.6.0 seaborn==0.12.0\n"
   ]
  },
  {
   "cell_type": "code",
   "execution_count": 7,
   "metadata": {},
   "outputs": [
    {
     "name": "stdout",
     "output_type": "stream",
     "text": [
      "Requirement already satisfied: matplotlib in c:\\users\\user\\anaconda3\\anaconda 4\\envs\\env_petrol\\lib\\site-packages (3.6.0)\n",
      "Requirement already satisfied: seaborn in c:\\users\\user\\anaconda3\\anaconda 4\\envs\\env_petrol\\lib\\site-packages (0.12.0)\n",
      "Requirement already satisfied: contourpy>=1.0.1 in c:\\users\\user\\anaconda3\\anaconda 4\\envs\\env_petrol\\lib\\site-packages (from matplotlib) (1.2.0)\n",
      "Requirement already satisfied: cycler>=0.10 in c:\\users\\user\\anaconda3\\anaconda 4\\envs\\env_petrol\\lib\\site-packages (from matplotlib) (0.11.0)\n",
      "Requirement already satisfied: fonttools>=4.22.0 in c:\\users\\user\\anaconda3\\anaconda 4\\envs\\env_petrol\\lib\\site-packages (from matplotlib) (4.51.0)\n",
      "Requirement already satisfied: kiwisolver>=1.0.1 in c:\\users\\user\\anaconda3\\anaconda 4\\envs\\env_petrol\\lib\\site-packages (from matplotlib) (1.4.4)\n",
      "Requirement already satisfied: numpy>=1.19 in c:\\users\\user\\anaconda3\\anaconda 4\\envs\\env_petrol\\lib\\site-packages (from matplotlib) (1.26.4)\n",
      "Requirement already satisfied: packaging>=20.0 in c:\\users\\user\\anaconda3\\anaconda 4\\envs\\env_petrol\\lib\\site-packages (from matplotlib) (24.1)\n",
      "Requirement already satisfied: pillow>=6.2.0 in c:\\users\\user\\anaconda3\\anaconda 4\\envs\\env_petrol\\lib\\site-packages (from matplotlib) (10.4.0)\n",
      "Requirement already satisfied: pyparsing>=2.2.1 in c:\\users\\user\\anaconda3\\anaconda 4\\envs\\env_petrol\\lib\\site-packages (from matplotlib) (3.0.9)\n",
      "Requirement already satisfied: python-dateutil>=2.7 in c:\\users\\user\\anaconda3\\anaconda 4\\envs\\env_petrol\\lib\\site-packages (from matplotlib) (2.9.0.post0)\n",
      "Requirement already satisfied: pandas>=0.25 in c:\\users\\user\\anaconda3\\anaconda 4\\envs\\env_petrol\\lib\\site-packages (from seaborn) (2.2.2)\n",
      "Requirement already satisfied: pytz>=2020.1 in c:\\users\\user\\anaconda3\\anaconda 4\\envs\\env_petrol\\lib\\site-packages (from pandas>=0.25->seaborn) (2024.1)\n",
      "Requirement already satisfied: tzdata>=2022.7 in c:\\users\\user\\anaconda3\\anaconda 4\\envs\\env_petrol\\lib\\site-packages (from pandas>=0.25->seaborn) (2023.3)\n",
      "Requirement already satisfied: six>=1.5 in c:\\users\\user\\anaconda3\\anaconda 4\\envs\\env_petrol\\lib\\site-packages (from python-dateutil>=2.7->matplotlib) (1.16.0)\n"
     ]
    }
   ],
   "source": [
    "#pip uninstall matplotlib seaborn\n",
    "!pip install matplotlib seaborn\n"
   ]
  },
  {
   "cell_type": "code",
   "execution_count": 10,
   "metadata": {},
   "outputs": [
    {
     "ename": "OSError",
     "evalue": "'seaborn-dark-palette' is not a valid package style, path of style file, URL of style file, or library style name (library styles are listed in `style.available`)",
     "output_type": "error",
     "traceback": [
      "\u001b[1;31m---------------------------------------------------------------------------\u001b[0m",
      "\u001b[1;31mFileNotFoundError\u001b[0m                         Traceback (most recent call last)",
      "File \u001b[1;32mc:\\Users\\User\\anaconda3\\anaconda 4\\envs\\env_petrol\\Lib\\site-packages\\matplotlib\\style\\core.py:137\u001b[0m, in \u001b[0;36muse\u001b[1;34m(style)\u001b[0m\n\u001b[0;32m    136\u001b[0m \u001b[38;5;28;01mtry\u001b[39;00m:\n\u001b[1;32m--> 137\u001b[0m     style \u001b[38;5;241m=\u001b[39m \u001b[43m_rc_params_in_file\u001b[49m\u001b[43m(\u001b[49m\u001b[43mstyle\u001b[49m\u001b[43m)\u001b[49m\n\u001b[0;32m    138\u001b[0m \u001b[38;5;28;01mexcept\u001b[39;00m \u001b[38;5;167;01mOSError\u001b[39;00m \u001b[38;5;28;01mas\u001b[39;00m err:\n",
      "File \u001b[1;32mc:\\Users\\User\\anaconda3\\anaconda 4\\envs\\env_petrol\\Lib\\site-packages\\matplotlib\\__init__.py:866\u001b[0m, in \u001b[0;36m_rc_params_in_file\u001b[1;34m(fname, transform, fail_on_error)\u001b[0m\n\u001b[0;32m    865\u001b[0m rc_temp \u001b[38;5;241m=\u001b[39m {}\n\u001b[1;32m--> 866\u001b[0m \u001b[43m\u001b[49m\u001b[38;5;28;43;01mwith\u001b[39;49;00m\u001b[43m \u001b[49m\u001b[43m_open_file_or_url\u001b[49m\u001b[43m(\u001b[49m\u001b[43mfname\u001b[49m\u001b[43m)\u001b[49m\u001b[43m \u001b[49m\u001b[38;5;28;43;01mas\u001b[39;49;00m\u001b[43m \u001b[49m\u001b[43mfd\u001b[49m\u001b[43m:\u001b[49m\n\u001b[0;32m    867\u001b[0m \u001b[43m    \u001b[49m\u001b[38;5;28;43;01mtry\u001b[39;49;00m\u001b[43m:\u001b[49m\n",
      "File \u001b[1;32mc:\\Users\\User\\anaconda3\\anaconda 4\\envs\\env_petrol\\Lib\\contextlib.py:137\u001b[0m, in \u001b[0;36m_GeneratorContextManager.__enter__\u001b[1;34m(self)\u001b[0m\n\u001b[0;32m    136\u001b[0m \u001b[38;5;28;01mtry\u001b[39;00m:\n\u001b[1;32m--> 137\u001b[0m     \u001b[38;5;28;01mreturn\u001b[39;00m \u001b[38;5;28mnext\u001b[39m(\u001b[38;5;28mself\u001b[39m\u001b[38;5;241m.\u001b[39mgen)\n\u001b[0;32m    138\u001b[0m \u001b[38;5;28;01mexcept\u001b[39;00m \u001b[38;5;167;01mStopIteration\u001b[39;00m:\n",
      "File \u001b[1;32mc:\\Users\\User\\anaconda3\\anaconda 4\\envs\\env_petrol\\Lib\\site-packages\\matplotlib\\__init__.py:843\u001b[0m, in \u001b[0;36m_open_file_or_url\u001b[1;34m(fname)\u001b[0m\n\u001b[0;32m    842\u001b[0m fname \u001b[38;5;241m=\u001b[39m os\u001b[38;5;241m.\u001b[39mpath\u001b[38;5;241m.\u001b[39mexpanduser(fname)\n\u001b[1;32m--> 843\u001b[0m \u001b[38;5;28;01mwith\u001b[39;00m \u001b[38;5;28mopen\u001b[39m(fname, encoding\u001b[38;5;241m=\u001b[39m\u001b[38;5;124m'\u001b[39m\u001b[38;5;124mutf-8\u001b[39m\u001b[38;5;124m'\u001b[39m) \u001b[38;5;28;01mas\u001b[39;00m f:\n\u001b[0;32m    844\u001b[0m     \u001b[38;5;28;01myield\u001b[39;00m f\n",
      "\u001b[1;31mFileNotFoundError\u001b[0m: [Errno 2] No such file or directory: 'seaborn-dark-palette'",
      "\nThe above exception was the direct cause of the following exception:\n",
      "\u001b[1;31mOSError\u001b[0m                                   Traceback (most recent call last)",
      "Cell \u001b[1;32mIn[10], line 10\u001b[0m\n\u001b[0;32m      7\u001b[0m \u001b[38;5;28;01mimport\u001b[39;00m \u001b[38;5;21;01mseaborn\u001b[39;00m \u001b[38;5;28;01mas\u001b[39;00m \u001b[38;5;21;01msns\u001b[39;00m\n\u001b[0;32m      8\u001b[0m \u001b[38;5;28;01mimport\u001b[39;00m \u001b[38;5;21;01mos\u001b[39;00m\n\u001b[1;32m---> 10\u001b[0m \u001b[43mplt\u001b[49m\u001b[38;5;241;43m.\u001b[39;49m\u001b[43mstyle\u001b[49m\u001b[38;5;241;43m.\u001b[39;49m\u001b[43muse\u001b[49m\u001b[43m(\u001b[49m\u001b[38;5;124;43m\"\u001b[39;49m\u001b[38;5;124;43mseaborn-dark-palette\u001b[39;49m\u001b[38;5;124;43m\"\u001b[39;49m\u001b[43m)\u001b[49m\n",
      "File \u001b[1;32mc:\\Users\\User\\anaconda3\\anaconda 4\\envs\\env_petrol\\Lib\\site-packages\\matplotlib\\style\\core.py:139\u001b[0m, in \u001b[0;36muse\u001b[1;34m(style)\u001b[0m\n\u001b[0;32m    137\u001b[0m         style \u001b[38;5;241m=\u001b[39m _rc_params_in_file(style)\n\u001b[0;32m    138\u001b[0m     \u001b[38;5;28;01mexcept\u001b[39;00m \u001b[38;5;167;01mOSError\u001b[39;00m \u001b[38;5;28;01mas\u001b[39;00m err:\n\u001b[1;32m--> 139\u001b[0m         \u001b[38;5;28;01mraise\u001b[39;00m \u001b[38;5;167;01mOSError\u001b[39;00m(\n\u001b[0;32m    140\u001b[0m             \u001b[38;5;124mf\u001b[39m\u001b[38;5;124m\"\u001b[39m\u001b[38;5;132;01m{\u001b[39;00mstyle\u001b[38;5;132;01m!r}\u001b[39;00m\u001b[38;5;124m is not a valid package style, path of style \u001b[39m\u001b[38;5;124m\"\u001b[39m\n\u001b[0;32m    141\u001b[0m             \u001b[38;5;124mf\u001b[39m\u001b[38;5;124m\"\u001b[39m\u001b[38;5;124mfile, URL of style file, or library style name (library \u001b[39m\u001b[38;5;124m\"\u001b[39m\n\u001b[0;32m    142\u001b[0m             \u001b[38;5;124mf\u001b[39m\u001b[38;5;124m\"\u001b[39m\u001b[38;5;124mstyles are listed in `style.available`)\u001b[39m\u001b[38;5;124m\"\u001b[39m) \u001b[38;5;28;01mfrom\u001b[39;00m \u001b[38;5;21;01merr\u001b[39;00m\n\u001b[0;32m    143\u001b[0m filtered \u001b[38;5;241m=\u001b[39m {}\n\u001b[0;32m    144\u001b[0m \u001b[38;5;28;01mfor\u001b[39;00m k \u001b[38;5;129;01min\u001b[39;00m style:  \u001b[38;5;66;03m# don't trigger RcParams.__getitem__('backend')\u001b[39;00m\n",
      "\u001b[1;31mOSError\u001b[0m: 'seaborn-dark-palette' is not a valid package style, path of style file, URL of style file, or library style name (library styles are listed in `style.available`)"
     ]
    }
   ],
   "source": [
    "import numpy as np\n",
    "import pandas as pd\n",
    "import matplotlib.pyplot as plt\n",
    "import plotly.graph_objects as go\n",
    "from plotly.subplots import make_subplots\n",
    "import plotly.express as px\n",
    "import seaborn as sns\n",
    "import os\n",
    "\n",
    "plt.style.use(\"seaborn-dark-palette\")"
   ]
  },
  {
   "cell_type": "markdown",
   "metadata": {},
   "source": [
    "# Loading the Dataset\n",
    "You load the dataset into a pandas DataFrame and examine the structure of the data:"
   ]
  },
  {
   "cell_type": "code",
   "execution_count": 4,
   "metadata": {},
   "outputs": [
    {
     "data": {
      "text/html": [
       "<div>\n",
       "<style scoped>\n",
       "    .dataframe tbody tr th:only-of-type {\n",
       "        vertical-align: middle;\n",
       "    }\n",
       "\n",
       "    .dataframe tbody tr th {\n",
       "        vertical-align: top;\n",
       "    }\n",
       "\n",
       "    .dataframe thead th {\n",
       "        text-align: right;\n",
       "    }\n",
       "</style>\n",
       "<table border=\"1\" class=\"dataframe\">\n",
       "  <thead>\n",
       "    <tr style=\"text-align: right;\">\n",
       "      <th></th>\n",
       "      <th>Date</th>\n",
       "      <th>Symbol</th>\n",
       "      <th>Open</th>\n",
       "      <th>High</th>\n",
       "      <th>Low</th>\n",
       "      <th>Close</th>\n",
       "      <th>Volume</th>\n",
       "      <th>Currency</th>\n",
       "    </tr>\n",
       "  </thead>\n",
       "  <tbody>\n",
       "    <tr>\n",
       "      <th>0</th>\n",
       "      <td>2000-01-03</td>\n",
       "      <td>XOM</td>\n",
       "      <td>39.75</td>\n",
       "      <td>40.38</td>\n",
       "      <td>38.94</td>\n",
       "      <td>39.16</td>\n",
       "      <td>13458200</td>\n",
       "      <td>USD</td>\n",
       "    </tr>\n",
       "    <tr>\n",
       "      <th>1</th>\n",
       "      <td>2000-01-04</td>\n",
       "      <td>XOM</td>\n",
       "      <td>38.69</td>\n",
       "      <td>39.09</td>\n",
       "      <td>38.25</td>\n",
       "      <td>38.41</td>\n",
       "      <td>14510800</td>\n",
       "      <td>USD</td>\n",
       "    </tr>\n",
       "    <tr>\n",
       "      <th>2</th>\n",
       "      <td>2000-01-05</td>\n",
       "      <td>XOM</td>\n",
       "      <td>39.00</td>\n",
       "      <td>40.88</td>\n",
       "      <td>38.91</td>\n",
       "      <td>40.50</td>\n",
       "      <td>17485000</td>\n",
       "      <td>USD</td>\n",
       "    </tr>\n",
       "    <tr>\n",
       "      <th>3</th>\n",
       "      <td>2000-01-06</td>\n",
       "      <td>XOM</td>\n",
       "      <td>40.31</td>\n",
       "      <td>42.91</td>\n",
       "      <td>40.09</td>\n",
       "      <td>42.59</td>\n",
       "      <td>19462000</td>\n",
       "      <td>USD</td>\n",
       "    </tr>\n",
       "    <tr>\n",
       "      <th>4</th>\n",
       "      <td>2000-01-07</td>\n",
       "      <td>XOM</td>\n",
       "      <td>42.97</td>\n",
       "      <td>43.12</td>\n",
       "      <td>42.00</td>\n",
       "      <td>42.47</td>\n",
       "      <td>16603800</td>\n",
       "      <td>USD</td>\n",
       "    </tr>\n",
       "    <tr>\n",
       "      <th>...</th>\n",
       "      <td>...</td>\n",
       "      <td>...</td>\n",
       "      <td>...</td>\n",
       "      <td>...</td>\n",
       "      <td>...</td>\n",
       "      <td>...</td>\n",
       "      <td>...</td>\n",
       "      <td>...</td>\n",
       "    </tr>\n",
       "    <tr>\n",
       "      <th>39196</th>\n",
       "      <td>2022-06-06</td>\n",
       "      <td>SLB</td>\n",
       "      <td>47.79</td>\n",
       "      <td>48.00</td>\n",
       "      <td>46.88</td>\n",
       "      <td>47.22</td>\n",
       "      <td>6696970</td>\n",
       "      <td>USD</td>\n",
       "    </tr>\n",
       "    <tr>\n",
       "      <th>39197</th>\n",
       "      <td>2022-06-07</td>\n",
       "      <td>SLB</td>\n",
       "      <td>47.00</td>\n",
       "      <td>49.08</td>\n",
       "      <td>46.87</td>\n",
       "      <td>48.93</td>\n",
       "      <td>14692203</td>\n",
       "      <td>USD</td>\n",
       "    </tr>\n",
       "    <tr>\n",
       "      <th>39198</th>\n",
       "      <td>2022-06-08</td>\n",
       "      <td>SLB</td>\n",
       "      <td>49.00</td>\n",
       "      <td>49.83</td>\n",
       "      <td>48.08</td>\n",
       "      <td>49.57</td>\n",
       "      <td>15067131</td>\n",
       "      <td>USD</td>\n",
       "    </tr>\n",
       "    <tr>\n",
       "      <th>39199</th>\n",
       "      <td>2022-06-09</td>\n",
       "      <td>SLB</td>\n",
       "      <td>48.79</td>\n",
       "      <td>49.16</td>\n",
       "      <td>48.10</td>\n",
       "      <td>48.14</td>\n",
       "      <td>11447491</td>\n",
       "      <td>USD</td>\n",
       "    </tr>\n",
       "    <tr>\n",
       "      <th>39200</th>\n",
       "      <td>2022-06-10</td>\n",
       "      <td>SLB</td>\n",
       "      <td>47.17</td>\n",
       "      <td>47.88</td>\n",
       "      <td>46.52</td>\n",
       "      <td>47.21</td>\n",
       "      <td>11291267</td>\n",
       "      <td>USD</td>\n",
       "    </tr>\n",
       "  </tbody>\n",
       "</table>\n",
       "<p>39201 rows × 8 columns</p>\n",
       "</div>"
      ],
      "text/plain": [
       "             Date Symbol   Open   High    Low  Close    Volume Currency\n",
       "0      2000-01-03    XOM  39.75  40.38  38.94  39.16  13458200      USD\n",
       "1      2000-01-04    XOM  38.69  39.09  38.25  38.41  14510800      USD\n",
       "2      2000-01-05    XOM  39.00  40.88  38.91  40.50  17485000      USD\n",
       "3      2000-01-06    XOM  40.31  42.91  40.09  42.59  19462000      USD\n",
       "4      2000-01-07    XOM  42.97  43.12  42.00  42.47  16603800      USD\n",
       "...           ...    ...    ...    ...    ...    ...       ...      ...\n",
       "39196  2022-06-06    SLB  47.79  48.00  46.88  47.22   6696970      USD\n",
       "39197  2022-06-07    SLB  47.00  49.08  46.87  48.93  14692203      USD\n",
       "39198  2022-06-08    SLB  49.00  49.83  48.08  49.57  15067131      USD\n",
       "39199  2022-06-09    SLB  48.79  49.16  48.10  48.14  11447491      USD\n",
       "39200  2022-06-10    SLB  47.17  47.88  46.52  47.21  11291267      USD\n",
       "\n",
       "[39201 rows x 8 columns]"
      ]
     },
     "execution_count": 4,
     "metadata": {},
     "output_type": "execute_result"
    }
   ],
   "source": [
    "df = pd.read_csv(r\"C:\\Users\\User\\Documents\\IRON HACK DA 2024\\IH-Labs W8\\Final-Project\\Data\\Raw data\\oil and gas stock prices.csv\")\n",
    "df"
   ]
  },
  {
   "cell_type": "code",
   "execution_count": 5,
   "metadata": {},
   "outputs": [
    {
     "data": {
      "text/html": [
       "<div>\n",
       "<style scoped>\n",
       "    .dataframe tbody tr th:only-of-type {\n",
       "        vertical-align: middle;\n",
       "    }\n",
       "\n",
       "    .dataframe tbody tr th {\n",
       "        vertical-align: top;\n",
       "    }\n",
       "\n",
       "    .dataframe thead th {\n",
       "        text-align: right;\n",
       "    }\n",
       "</style>\n",
       "<table border=\"1\" class=\"dataframe\">\n",
       "  <thead>\n",
       "    <tr style=\"text-align: right;\">\n",
       "      <th></th>\n",
       "      <th>Date</th>\n",
       "      <th>Symbol</th>\n",
       "      <th>Open</th>\n",
       "      <th>High</th>\n",
       "      <th>Low</th>\n",
       "      <th>Close</th>\n",
       "      <th>Volume</th>\n",
       "      <th>Currency</th>\n",
       "    </tr>\n",
       "  </thead>\n",
       "  <tbody>\n",
       "    <tr>\n",
       "      <th>0</th>\n",
       "      <td>2000-01-03</td>\n",
       "      <td>XOM</td>\n",
       "      <td>39.75</td>\n",
       "      <td>40.38</td>\n",
       "      <td>38.94</td>\n",
       "      <td>39.16</td>\n",
       "      <td>13458200</td>\n",
       "      <td>USD</td>\n",
       "    </tr>\n",
       "    <tr>\n",
       "      <th>1</th>\n",
       "      <td>2000-01-04</td>\n",
       "      <td>XOM</td>\n",
       "      <td>38.69</td>\n",
       "      <td>39.09</td>\n",
       "      <td>38.25</td>\n",
       "      <td>38.41</td>\n",
       "      <td>14510800</td>\n",
       "      <td>USD</td>\n",
       "    </tr>\n",
       "    <tr>\n",
       "      <th>2</th>\n",
       "      <td>2000-01-05</td>\n",
       "      <td>XOM</td>\n",
       "      <td>39.00</td>\n",
       "      <td>40.88</td>\n",
       "      <td>38.91</td>\n",
       "      <td>40.50</td>\n",
       "      <td>17485000</td>\n",
       "      <td>USD</td>\n",
       "    </tr>\n",
       "    <tr>\n",
       "      <th>3</th>\n",
       "      <td>2000-01-06</td>\n",
       "      <td>XOM</td>\n",
       "      <td>40.31</td>\n",
       "      <td>42.91</td>\n",
       "      <td>40.09</td>\n",
       "      <td>42.59</td>\n",
       "      <td>19462000</td>\n",
       "      <td>USD</td>\n",
       "    </tr>\n",
       "    <tr>\n",
       "      <th>4</th>\n",
       "      <td>2000-01-07</td>\n",
       "      <td>XOM</td>\n",
       "      <td>42.97</td>\n",
       "      <td>43.12</td>\n",
       "      <td>42.00</td>\n",
       "      <td>42.47</td>\n",
       "      <td>16603800</td>\n",
       "      <td>USD</td>\n",
       "    </tr>\n",
       "  </tbody>\n",
       "</table>\n",
       "</div>"
      ],
      "text/plain": [
       "         Date Symbol   Open   High    Low  Close    Volume Currency\n",
       "0  2000-01-03    XOM  39.75  40.38  38.94  39.16  13458200      USD\n",
       "1  2000-01-04    XOM  38.69  39.09  38.25  38.41  14510800      USD\n",
       "2  2000-01-05    XOM  39.00  40.88  38.91  40.50  17485000      USD\n",
       "3  2000-01-06    XOM  40.31  42.91  40.09  42.59  19462000      USD\n",
       "4  2000-01-07    XOM  42.97  43.12  42.00  42.47  16603800      USD"
      ]
     },
     "execution_count": 5,
     "metadata": {},
     "output_type": "execute_result"
    }
   ],
   "source": [
    "# Display the first few rows of the dataframe\n",
    "df.head()"
   ]
  },
  {
   "cell_type": "code",
   "execution_count": 6,
   "metadata": {},
   "outputs": [
    {
     "data": {
      "text/html": [
       "<div>\n",
       "<style scoped>\n",
       "    .dataframe tbody tr th:only-of-type {\n",
       "        vertical-align: middle;\n",
       "    }\n",
       "\n",
       "    .dataframe tbody tr th {\n",
       "        vertical-align: top;\n",
       "    }\n",
       "\n",
       "    .dataframe thead th {\n",
       "        text-align: right;\n",
       "    }\n",
       "</style>\n",
       "<table border=\"1\" class=\"dataframe\">\n",
       "  <thead>\n",
       "    <tr style=\"text-align: right;\">\n",
       "      <th></th>\n",
       "      <th>Date</th>\n",
       "      <th>Symbol</th>\n",
       "      <th>Open</th>\n",
       "      <th>High</th>\n",
       "      <th>Low</th>\n",
       "      <th>Close</th>\n",
       "      <th>Volume</th>\n",
       "      <th>Currency</th>\n",
       "    </tr>\n",
       "  </thead>\n",
       "  <tbody>\n",
       "    <tr>\n",
       "      <th>39196</th>\n",
       "      <td>2022-06-06</td>\n",
       "      <td>SLB</td>\n",
       "      <td>47.79</td>\n",
       "      <td>48.00</td>\n",
       "      <td>46.88</td>\n",
       "      <td>47.22</td>\n",
       "      <td>6696970</td>\n",
       "      <td>USD</td>\n",
       "    </tr>\n",
       "    <tr>\n",
       "      <th>39197</th>\n",
       "      <td>2022-06-07</td>\n",
       "      <td>SLB</td>\n",
       "      <td>47.00</td>\n",
       "      <td>49.08</td>\n",
       "      <td>46.87</td>\n",
       "      <td>48.93</td>\n",
       "      <td>14692203</td>\n",
       "      <td>USD</td>\n",
       "    </tr>\n",
       "    <tr>\n",
       "      <th>39198</th>\n",
       "      <td>2022-06-08</td>\n",
       "      <td>SLB</td>\n",
       "      <td>49.00</td>\n",
       "      <td>49.83</td>\n",
       "      <td>48.08</td>\n",
       "      <td>49.57</td>\n",
       "      <td>15067131</td>\n",
       "      <td>USD</td>\n",
       "    </tr>\n",
       "    <tr>\n",
       "      <th>39199</th>\n",
       "      <td>2022-06-09</td>\n",
       "      <td>SLB</td>\n",
       "      <td>48.79</td>\n",
       "      <td>49.16</td>\n",
       "      <td>48.10</td>\n",
       "      <td>48.14</td>\n",
       "      <td>11447491</td>\n",
       "      <td>USD</td>\n",
       "    </tr>\n",
       "    <tr>\n",
       "      <th>39200</th>\n",
       "      <td>2022-06-10</td>\n",
       "      <td>SLB</td>\n",
       "      <td>47.17</td>\n",
       "      <td>47.88</td>\n",
       "      <td>46.52</td>\n",
       "      <td>47.21</td>\n",
       "      <td>11291267</td>\n",
       "      <td>USD</td>\n",
       "    </tr>\n",
       "  </tbody>\n",
       "</table>\n",
       "</div>"
      ],
      "text/plain": [
       "             Date Symbol   Open   High    Low  Close    Volume Currency\n",
       "39196  2022-06-06    SLB  47.79  48.00  46.88  47.22   6696970      USD\n",
       "39197  2022-06-07    SLB  47.00  49.08  46.87  48.93  14692203      USD\n",
       "39198  2022-06-08    SLB  49.00  49.83  48.08  49.57  15067131      USD\n",
       "39199  2022-06-09    SLB  48.79  49.16  48.10  48.14  11447491      USD\n",
       "39200  2022-06-10    SLB  47.17  47.88  46.52  47.21  11291267      USD"
      ]
     },
     "execution_count": 6,
     "metadata": {},
     "output_type": "execute_result"
    }
   ],
   "source": [
    "# Display the last few rows of the dataframe\n",
    "df.tail()\n"
   ]
  },
  {
   "cell_type": "code",
   "execution_count": 7,
   "metadata": {},
   "outputs": [
    {
     "data": {
      "text/plain": [
       "(39201, 8)"
      ]
     },
     "execution_count": 7,
     "metadata": {},
     "output_type": "execute_result"
    }
   ],
   "source": [
    "# Display the shape of the dataframe\n",
    "df.shape"
   ]
  },
  {
   "cell_type": "code",
   "execution_count": 8,
   "metadata": {},
   "outputs": [
    {
     "data": {
      "text/plain": [
       "Index(['Date', 'Symbol', 'Open', 'High', 'Low', 'Close', 'Volume', 'Currency'], dtype='object')"
      ]
     },
     "execution_count": 8,
     "metadata": {},
     "output_type": "execute_result"
    }
   ],
   "source": [
    "df.columns"
   ]
  },
  {
   "cell_type": "code",
   "execution_count": 9,
   "metadata": {},
   "outputs": [
    {
     "data": {
      "text/plain": [
       "Date         5647\n",
       "Symbol          8\n",
       "Open        10964\n",
       "High        11013\n",
       "Low         10906\n",
       "Close       11066\n",
       "Volume      38380\n",
       "Currency        1\n",
       "dtype: int64"
      ]
     },
     "execution_count": 9,
     "metadata": {},
     "output_type": "execute_result"
    }
   ],
   "source": [
    "df.nunique()"
   ]
  },
  {
   "cell_type": "code",
   "execution_count": 10,
   "metadata": {},
   "outputs": [
    {
     "data": {
      "text/plain": [
       "Date        Symbol  Open    High    Low    Close   Volume    Currency\n",
       "2000-01-03  COP     17.72   17.77   17.25  17.27   1419600   USD         1\n",
       "2015-12-16  COP     50.30   50.84   49.12  49.35   11438912  USD         1\n",
       "2015-12-15  CVX     90.58   93.40   90.55  92.76   19158528  USD         1\n",
       "            MPC     48.96   49.74   48.35  49.16   9240229   USD         1\n",
       "            MRO     14.27   14.50   13.93  14.46   12972855  USD         1\n",
       "                                                                        ..\n",
       "2008-09-02  COP     61.28   61.43   59.83  60.22   12633445  USD         1\n",
       "            CVX     84.49   84.61   83.21  83.29   13445513  USD         1\n",
       "            MRO     26.56   27.00   26.10  26.13   5300560   USD         1\n",
       "            SLB     92.08   92.08   90.08  90.46   11913208  USD         1\n",
       "2022-06-10  XOM     101.94  103.35  99.79  100.46  30764130  USD         1\n",
       "Name: count, Length: 39201, dtype: int64"
      ]
     },
     "execution_count": 10,
     "metadata": {},
     "output_type": "execute_result"
    }
   ],
   "source": [
    "df.value_counts()"
   ]
  },
  {
   "cell_type": "code",
   "execution_count": null,
   "metadata": {},
   "outputs": [],
   "source": [
    "df.isna().sum()"
   ]
  },
  {
   "cell_type": "code",
   "execution_count": null,
   "metadata": {},
   "outputs": [],
   "source": [
    "df.duplicated().value_counts()"
   ]
  },
  {
   "cell_type": "code",
   "execution_count": null,
   "metadata": {},
   "outputs": [],
   "source": [
    "df['Volume']=df['Volume'].astype(float)"
   ]
  },
  {
   "cell_type": "code",
   "execution_count": null,
   "metadata": {},
   "outputs": [],
   "source": [
    "df.dtypes"
   ]
  },
  {
   "cell_type": "code",
   "execution_count": null,
   "metadata": {},
   "outputs": [],
   "source": [
    "# Data Information\n",
    "df.info()"
   ]
  },
  {
   "cell_type": "code",
   "execution_count": null,
   "metadata": {},
   "outputs": [],
   "source": [
    "df['Date'].unique()"
   ]
  },
  {
   "cell_type": "code",
   "execution_count": null,
   "metadata": {},
   "outputs": [],
   "source": [
    "df['Symbol'].unique()"
   ]
  },
  {
   "cell_type": "code",
   "execution_count": null,
   "metadata": {},
   "outputs": [],
   "source": [
    "df['Open'].unique()"
   ]
  },
  {
   "cell_type": "code",
   "execution_count": null,
   "metadata": {},
   "outputs": [],
   "source": [
    "df['High'].unique()"
   ]
  },
  {
   "cell_type": "code",
   "execution_count": null,
   "metadata": {},
   "outputs": [],
   "source": [
    "df['Low'].unique()"
   ]
  },
  {
   "cell_type": "code",
   "execution_count": null,
   "metadata": {},
   "outputs": [],
   "source": [
    "df['Volume'].unique()"
   ]
  },
  {
   "cell_type": "code",
   "execution_count": null,
   "metadata": {},
   "outputs": [],
   "source": [
    "df['Currency'].unique()"
   ]
  },
  {
   "cell_type": "code",
   "execution_count": null,
   "metadata": {},
   "outputs": [],
   "source": [
    "# Summary Statistics\n",
    "df.describe().style.background_gradient(cmap = \"cividis\")\n"
   ]
  },
  {
   "cell_type": "markdown",
   "metadata": {},
   "source": [
    "# Overview of the Dataset\n",
    "1. The dataset contains stock price data for several major US oil and gas companies.\n",
    "2. The companies include Exxon Mobil (XOM), Chevron (CVX), ConocoPhillips (COP), and others."
   ]
  },
  {
   "cell_type": "markdown",
   "metadata": {},
   "source": [
    "# Visualizing Stock Trading Data\n",
    "\n",
    "The script uses Plotly to visualize the distribution of trading attributes (e.g., Open, High, Volume) for each company over time:"
   ]
  },
  {
   "cell_type": "code",
   "execution_count": null,
   "metadata": {},
   "outputs": [],
   "source": [
    "# Histogram of trading attributes\n",
    "for y in [\"Open\", \"High\", \"Volume\"]: \n",
    "    fig = px.histogram(df, x=\"Date\", y=y, color=\"Symbol\",\n",
    "                       color_discrete_sequence=px.colors.qualitative.Set2,\n",
    "                       title=f\"Total Trading {y} Distribution of Major US Oil Companies\")\n",
    "    fig.update_layout(template=\"plotly_dark\", font=dict(family=\"PT Sans\", size=18))\n",
    "    fig.show()"
   ]
  },
  {
   "cell_type": "markdown",
   "metadata": {},
   "source": [
    "# Visualizing All Attributes Together\n",
    "You visualize all the attributes in the DataFrame as subplots, which is a quick way to inspect trends"
   ]
  },
  {
   "cell_type": "code",
   "execution_count": null,
   "metadata": {},
   "outputs": [],
   "source": [
    "\n",
    "df.plot(subplots=True, figsize=(12, 12), linewidth=1.5)\n",
    "plt.title(\"US Oil and Gas Stock Attributes\")\n",
    "plt.show()"
   ]
  },
  {
   "cell_type": "markdown",
   "metadata": {},
   "source": [
    "# Volume Trend Visualization\n",
    "A bar plot is used to visualize the trend of trading volume over time"
   ]
  },
  {
   "cell_type": "code",
   "execution_count": null,
   "metadata": {},
   "outputs": [],
   "source": [
    "\n",
    "fig, ax = plt.subplots(figsize=(12, 6))\n",
    "ax.bar(df[\"Date\"], df[\"Volume\"])\n",
    "ax.xaxis.set_major_locator(plt.MaxNLocator(15))\n",
    "ax.set_xlabel(\"Date\", fontsize=5)\n",
    "ax.set_ylabel(\"Volume\", fontsize=5)\n",
    "plt.title('Volume Trend', fontsize=20)\n",
    "plt.grid()\n",
    "plt.show()"
   ]
  },
  {
   "cell_type": "markdown",
   "metadata": {},
   "source": [
    "# Moving Averages\n",
    "You calculate and visualize the 20-day and 50-day moving averages of the opening prices"
   ]
  },
  {
   "cell_type": "code",
   "execution_count": null,
   "metadata": {},
   "outputs": [],
   "source": [
    "df[\"MA for 20 days\"] = df[\"Open\"].rolling(20).mean()\n",
    "df[\"MA for 50 days\"] = df[\"Open\"].rolling(50).mean()\n",
    "df.truncate(before=\"2010-01-01\", after=\"2022-06-10\")[[\"Close\", \"MA for 20 days\", \"MA for 50 days\"]].plot(subplots=False, figsize=(12, 6), linewidth=2)\n",
    "plt.grid()\n",
    "plt.show()"
   ]
  },
  {
   "cell_type": "markdown",
   "metadata": {},
   "source": [
    "# Distribution of Opening Prices\n",
    "Finally, you use Seaborn to plot the distribution of opening prices"
   ]
  },
  {
   "cell_type": "code",
   "execution_count": null,
   "metadata": {},
   "outputs": [],
   "source": [
    "\n",
    "sns.distplot(df[\"Open\"], color=\"#FFD500\")\n",
    "plt.title(\"Distribution of open prices of US Oil and Gas stocks\", fontweight=\"bold\", fontsize=20)\n",
    "plt.xlabel(\"Open Price\", fontsize=10)\n"
   ]
  },
  {
   "cell_type": "code",
   "execution_count": null,
   "metadata": {},
   "outputs": [],
   "source": [
    "count=1\n",
    "plt.subplots(figsize=(30,25))\n",
    "for i in df.columns:\n",
    "    if df[i].dtypes!='object':\n",
    "        plt.subplot(6,7,count)\n",
    "        sns.distplot(df[i])\n",
    "        count+=1\n",
    "\n",
    "plt.show()"
   ]
  },
  {
   "cell_type": "code",
   "execution_count": null,
   "metadata": {},
   "outputs": [],
   "source": [
    "count=1\n",
    "plt.subplots(figsize=(30,25))\n",
    "for i in df.columns:\n",
    "    if df[i].dtypes!='object':\n",
    "        plt.subplot(6,7,count)\n",
    "        sns.boxplot(df[i])\n",
    "        count+=1\n",
    "\n",
    "plt.show()"
   ]
  },
  {
   "cell_type": "code",
   "execution_count": null,
   "metadata": {},
   "outputs": [],
   "source": [
    "sns.pairplot(data=df)"
   ]
  },
  {
   "cell_type": "markdown",
   "metadata": {},
   "source": [
    "# Summary Statistics\n",
    "You print out the maximum and minimum opening prices"
   ]
  },
  {
   "cell_type": "code",
   "execution_count": null,
   "metadata": {},
   "outputs": [],
   "source": [
    "# Summary Statistics\n",
    "print(\"Maximum open price of stock ever obtained:\", df[\"Open\"].max())\n",
    "print(\"Minimum open price of stock ever obtained:\", df[\"Open\"].min())"
   ]
  },
  {
   "cell_type": "markdown",
   "metadata": {},
   "source": [
    "# Missing Data Handling\n",
    "First, check for any missing data and decide how to handle it:\n",
    "\n",
    "\n",
    "If the amount of missing data is small, you might opt to drop those rows.\n",
    "\n",
    "For larger gaps, consider forward or backward filling, or more sophisticated methods like interpolation."
   ]
  },
  {
   "cell_type": "code",
   "execution_count": null,
   "metadata": {},
   "outputs": [],
   "source": [
    "# Check for missing values\n",
    "missing_data = df.isnull().sum()\n",
    "print(missing_data)"
   ]
  },
  {
   "cell_type": "code",
   "execution_count": null,
   "metadata": {},
   "outputs": [],
   "source": [
    "# Visualize missing data\n",
    "sns.heatmap(df.isnull(), cbar=False, cmap=\"viridis\")"
   ]
  },
  {
   "cell_type": "code",
   "execution_count": null,
   "metadata": {},
   "outputs": [],
   "source": [
    "# Drop rows with missing values\n",
    "df_cleaned = df.dropna()"
   ]
  },
  {
   "cell_type": "markdown",
   "metadata": {},
   "source": [
    "# Correlation Analysis\n",
    "\n",
    "Explore how the stock attributes correlate with each other. This can help identify patterns or redundancy in the data.\n",
    "\n",
    "Interpretation:\n",
    "\n",
    "Look for high correlations that might indicate multicollinearity.   \n",
    "\n",
    "Investigate any unexpected correlations that could lead to new insights."
   ]
  },
  {
   "cell_type": "code",
   "execution_count": null,
   "metadata": {},
   "outputs": [],
   "source": [
    "\n",
    "# Calculate correlation matrix\n",
    "corr_matrix = df.corr()"
   ]
  },
  {
   "cell_type": "code",
   "execution_count": null,
   "metadata": {},
   "outputs": [],
   "source": [
    "# Visualize correlation matrix using a heatmap\n",
    "plt.figure(figsize=(10, 8))\n",
    "sns.heatmap(corr_matrix, annot=True, cmap=\"coolwarm\", linewidths=0.5)\n",
    "plt.title(\"Correlation Matrix of Stock Attributes\", fontsize=18)\n",
    "plt.show()"
   ]
  },
  {
   "cell_type": "markdown",
   "metadata": {},
   "source": [
    "# Time Series Analysis\n",
    "Decompose the time series data to analyze trends, seasonality, and residuals."
   ]
  },
  {
   "cell_type": "code",
   "execution_count": null,
   "metadata": {},
   "outputs": [],
   "source": [
    "# Decompose the time series data\n",
    "from statsmodels.tsa.seasonal import seasonal_decompose\n",
    "decomposed = seasonal_decompose(df['Close'], model='multiplicative', period=365)\n"
   ]
  },
  {
   "cell_type": "code",
   "execution_count": null,
   "metadata": {},
   "outputs": [],
   "source": [
    "# Plot the decomposed components\n",
    "decomposed.plot()\n",
    "plt.suptitle('Time Series Decomposition of Close Price', fontsize=18)\n",
    "plt.show()"
   ]
  },
  {
   "cell_type": "markdown",
   "metadata": {},
   "source": [
    "# Comparison of Companies\n",
    "\n",
    "Use visualizations to compare stock price trends, volatilities, and other key metrics across different companies."
   ]
  },
  {
   "cell_type": "code",
   "execution_count": null,
   "metadata": {},
   "outputs": [],
   "source": [
    "# Closing Price Trends\n",
    "fig = px.line(df, x=\"Date\", y=\"Close\", color=\"Symbol\", title=\"Closing Price Trends of Major US Oil Companies\")\n",
    "fig.update_layout(template=\"plotly_dark\", font=dict(family=\"PT Sans\", size=18))\n",
    "fig.show()"
   ]
  },
  {
   "cell_type": "code",
   "execution_count": null,
   "metadata": {},
   "outputs": [],
   "source": [
    "# Boxplot to Compare Volatilities\n",
    "plt.figure(figsize=(12, 6))\n",
    "sns.boxplot(x=\"Symbol\", y=\"Close\", data=df)\n",
    "plt.title(\"Volatility Comparison of Closing Prices\", fontsize=18)\n",
    "plt.show()"
   ]
  },
  {
   "cell_type": "markdown",
   "metadata": {},
   "source": [
    "Insights:\n",
    "\n",
    "Identify which companies have the most stable or volatile stock prices.\n",
    "\n",
    "Compare the overall performance of different companies."
   ]
  },
  {
   "cell_type": "markdown",
   "metadata": {},
   "source": [
    "# Outlier Detection\n",
    "Identify and visualize any outliers in the data"
   ]
  },
  {
   "cell_type": "code",
   "execution_count": null,
   "metadata": {},
   "outputs": [],
   "source": [
    "# Boxplot to Identify Outliers\n",
    "plt.figure(figsize=(12, 6))\n",
    "sns.boxplot(data=df[['Open', 'High', 'Low', 'Close', 'Volume']])\n",
    "plt.title('Outlier Detection in Stock Attributes', fontsize=18)\n",
    "plt.show()"
   ]
  },
  {
   "cell_type": "code",
   "execution_count": null,
   "metadata": {},
   "outputs": [],
   "source": [
    "# Using Z-scores for Outlier Detection\n",
    "from scipy import stats\n",
    "\n",
    "z_scores = np.abs(stats.zscore(df[['Open', 'High', 'Low', 'Close', 'Volume']]))\n",
    "outliers = np.where(z_scores > 3)\n",
    "print(f\"Outliers Detected:\\n{outliers}\")"
   ]
  },
  {
   "cell_type": "markdown",
   "metadata": {},
   "source": [
    " Handling Outliers:\n",
    "\n",
    "Decide whether to remove or adjust outliers based on their impact on the analysis."
   ]
  },
  {
   "cell_type": "markdown",
   "metadata": {},
   "source": [
    "# Interactive Dashboards with Dash\n",
    "Consider building a Dash app for more interactive exploration.\n",
    "Benefits:\n",
    "\n",
    "Users can select different companies to compare.\n",
    "\n",
    "Provides a more interactive way to explore the data."
   ]
  },
  {
   "cell_type": "code",
   "execution_count": 1,
   "metadata": {},
   "outputs": [
    {
     "name": "stdout",
     "output_type": "stream",
     "text": [
      "Collecting jupyter-dash"
     ]
    },
    {
     "name": "stderr",
     "output_type": "stream",
     "text": [
      "WARNING: Ignoring invalid distribution -atplotlib (c:\\users\\user\\anaconda3\\anaconda 4\\lib\\site-packages)\n",
      "WARNING: Ignoring invalid distribution -atplotlib (c:\\users\\user\\anaconda3\\anaconda 4\\lib\\site-packages)\n",
      "WARNING: Ignoring invalid distribution -atplotlib (c:\\users\\user\\anaconda3\\anaconda 4\\lib\\site-packages)\n",
      "WARNING: Ignoring invalid distribution -atplotlib (c:\\users\\user\\anaconda3\\anaconda 4\\lib\\site-packages)\n",
      "WARNING: Ignoring invalid distribution -atplotlib (c:\\users\\user\\anaconda3\\anaconda 4\\lib\\site-packages)\n",
      "WARNING: Ignoring invalid distribution -atplotlib (c:\\users\\user\\anaconda3\\anaconda 4\\lib\\site-packages)\n",
      "WARNING: Ignoring invalid distribution -atplotlib (c:\\users\\user\\anaconda3\\anaconda 4\\lib\\site-packages)\n",
      "WARNING: Ignoring invalid distribution -atplotlib (c:\\users\\user\\anaconda3\\anaconda 4\\lib\\site-packages)\n"
     ]
    },
    {
     "name": "stdout",
     "output_type": "stream",
     "text": [
      "\n",
      "  Using cached jupyter_dash-0.4.2-py3-none-any.whl (23 kB)\n",
      "Requirement already satisfied: nest-asyncio in c:\\users\\user\\anaconda3\\anaconda 4\\lib\\site-packages (from jupyter-dash) (1.5.5)\n",
      "Collecting ansi2html\n",
      "  Using cached ansi2html-1.9.2-py3-none-any.whl (17 kB)\n",
      "Requirement already satisfied: retrying in c:\\users\\user\\anaconda3\\anaconda 4\\lib\\site-packages (from jupyter-dash) (1.3.4)\n",
      "Requirement already satisfied: flask in c:\\users\\user\\anaconda3\\anaconda 4\\lib\\site-packages (from jupyter-dash) (1.1.2)\n",
      "Requirement already satisfied: ipykernel in c:\\users\\user\\anaconda3\\anaconda 4\\lib\\site-packages (from jupyter-dash) (6.15.2)\n",
      "Requirement already satisfied: requests in c:\\users\\user\\anaconda3\\anaconda 4\\lib\\site-packages (from jupyter-dash) (2.28.1)\n",
      "Requirement already satisfied: dash in c:\\users\\user\\anaconda3\\anaconda 4\\lib\\site-packages (from jupyter-dash) (2.17.1)\n",
      "Requirement already satisfied: ipython in c:\\users\\user\\anaconda3\\anaconda 4\\lib\\site-packages (from jupyter-dash) (7.31.1)\n",
      "Requirement already satisfied: dash-table==5.0.0 in c:\\users\\user\\anaconda3\\anaconda 4\\lib\\site-packages (from dash->jupyter-dash) (5.0.0)\n",
      "Requirement already satisfied: dash-core-components==2.0.0 in c:\\users\\user\\anaconda3\\anaconda 4\\lib\\site-packages (from dash->jupyter-dash) (2.0.0)\n",
      "Requirement already satisfied: plotly>=5.0.0 in c:\\users\\user\\anaconda3\\anaconda 4\\lib\\site-packages (from dash->jupyter-dash) (5.9.0)\n",
      "Requirement already satisfied: Werkzeug<3.1 in c:\\users\\user\\anaconda3\\anaconda 4\\lib\\site-packages (from dash->jupyter-dash) (2.0.3)\n",
      "Requirement already satisfied: dash-html-components==2.0.0 in c:\\users\\user\\anaconda3\\anaconda 4\\lib\\site-packages (from dash->jupyter-dash) (2.0.0)\n",
      "Requirement already satisfied: typing-extensions>=4.1.1 in c:\\users\\user\\anaconda3\\anaconda 4\\lib\\site-packages (from dash->jupyter-dash) (4.12.2)\n",
      "Requirement already satisfied: importlib-metadata in c:\\users\\user\\anaconda3\\anaconda 4\\lib\\site-packages (from dash->jupyter-dash) (4.11.3)\n",
      "Requirement already satisfied: setuptools in c:\\users\\user\\anaconda3\\anaconda 4\\lib\\site-packages (from dash->jupyter-dash) (63.4.1)\n",
      "Requirement already satisfied: itsdangerous>=0.24 in c:\\users\\user\\anaconda3\\anaconda 4\\lib\\site-packages (from flask->jupyter-dash) (2.0.1)\n",
      "Requirement already satisfied: Jinja2>=2.10.1 in c:\\users\\user\\anaconda3\\anaconda 4\\lib\\site-packages (from flask->jupyter-dash) (2.11.3)\n",
      "Requirement already satisfied: click>=5.1 in c:\\users\\user\\anaconda3\\anaconda 4\\lib\\site-packages (from flask->jupyter-dash) (8.0.4)\n",
      "Requirement already satisfied: pyzmq>=17 in c:\\users\\user\\anaconda3\\anaconda 4\\lib\\site-packages (from ipykernel->jupyter-dash) (23.2.0)\n",
      "Requirement already satisfied: packaging in c:\\users\\user\\anaconda3\\anaconda 4\\lib\\site-packages (from ipykernel->jupyter-dash) (21.3)\n",
      "Requirement already satisfied: jupyter-client>=6.1.12 in c:\\users\\user\\anaconda3\\anaconda 4\\lib\\site-packages (from ipykernel->jupyter-dash) (7.3.4)\n",
      "Requirement already satisfied: matplotlib-inline>=0.1 in c:\\users\\user\\anaconda3\\anaconda 4\\lib\\site-packages (from ipykernel->jupyter-dash) (0.1.6)\n",
      "Requirement already satisfied: debugpy>=1.0 in c:\\users\\user\\anaconda3\\anaconda 4\\lib\\site-packages (from ipykernel->jupyter-dash) (1.5.1)\n",
      "Requirement already satisfied: traitlets>=5.1.0 in c:\\users\\user\\anaconda3\\anaconda 4\\lib\\site-packages (from ipykernel->jupyter-dash) (5.1.1)\n",
      "Requirement already satisfied: tornado>=6.1 in c:\\users\\user\\anaconda3\\anaconda 4\\lib\\site-packages (from ipykernel->jupyter-dash) (6.4.1)\n",
      "Requirement already satisfied: psutil in c:\\users\\user\\anaconda3\\anaconda 4\\lib\\site-packages (from ipykernel->jupyter-dash) (5.9.0)\n",
      "Requirement already satisfied: jedi>=0.16 in c:\\users\\user\\anaconda3\\anaconda 4\\lib\\site-packages (from ipython->jupyter-dash) (0.18.1)\n",
      "Requirement already satisfied: decorator in c:\\users\\user\\anaconda3\\anaconda 4\\lib\\site-packages (from ipython->jupyter-dash) (5.1.1)\n",
      "Requirement already satisfied: prompt-toolkit!=3.0.0,!=3.0.1,<3.1.0,>=2.0.0 in c:\\users\\user\\anaconda3\\anaconda 4\\lib\\site-packages (from ipython->jupyter-dash) (3.0.20)\n",
      "Requirement already satisfied: colorama in c:\\users\\user\\anaconda3\\anaconda 4\\lib\\site-packages (from ipython->jupyter-dash) (0.4.5)\n",
      "Requirement already satisfied: pickleshare in c:\\users\\user\\anaconda3\\anaconda 4\\lib\\site-packages (from ipython->jupyter-dash) (0.7.5)\n",
      "Requirement already satisfied: backcall in c:\\users\\user\\anaconda3\\anaconda 4\\lib\\site-packages (from ipython->jupyter-dash) (0.2.0)\n",
      "Requirement already satisfied: pygments in c:\\users\\user\\anaconda3\\anaconda 4\\lib\\site-packages (from ipython->jupyter-dash) (2.18.0)\n",
      "Requirement already satisfied: certifi>=2017.4.17 in c:\\users\\user\\anaconda3\\anaconda 4\\lib\\site-packages (from requests->jupyter-dash) (2022.9.14)\n",
      "Requirement already satisfied: idna<4,>=2.5 in c:\\users\\user\\anaconda3\\anaconda 4\\lib\\site-packages (from requests->jupyter-dash) (3.3)\n",
      "Requirement already satisfied: charset-normalizer<3,>=2 in c:\\users\\user\\anaconda3\\anaconda 4\\lib\\site-packages (from requests->jupyter-dash) (2.0.4)\n",
      "Requirement already satisfied: urllib3<1.27,>=1.21.1 in c:\\users\\user\\anaconda3\\anaconda 4\\lib\\site-packages (from requests->jupyter-dash) (1.26.11)\n",
      "Requirement already satisfied: six>=1.7.0 in c:\\users\\user\\anaconda3\\anaconda 4\\lib\\site-packages (from retrying->jupyter-dash) (1.16.0)\n",
      "Requirement already satisfied: parso<0.9.0,>=0.8.0 in c:\\users\\user\\anaconda3\\anaconda 4\\lib\\site-packages (from jedi>=0.16->ipython->jupyter-dash) (0.8.3)\n",
      "Requirement already satisfied: MarkupSafe>=0.23 in c:\\users\\user\\anaconda3\\anaconda 4\\lib\\site-packages (from Jinja2>=2.10.1->flask->jupyter-dash) (2.0.1)\n",
      "Requirement already satisfied: python-dateutil>=2.8.2 in c:\\users\\user\\anaconda3\\anaconda 4\\lib\\site-packages (from jupyter-client>=6.1.12->ipykernel->jupyter-dash) (2.8.2)\n",
      "Requirement already satisfied: entrypoints in c:\\users\\user\\anaconda3\\anaconda 4\\lib\\site-packages (from jupyter-client>=6.1.12->ipykernel->jupyter-dash) (0.4)\n",
      "Requirement already satisfied: jupyter-core>=4.9.2 in c:\\users\\user\\anaconda3\\anaconda 4\\lib\\site-packages (from jupyter-client>=6.1.12->ipykernel->jupyter-dash) (4.11.1)\n",
      "Requirement already satisfied: tenacity>=6.2.0 in c:\\users\\user\\anaconda3\\anaconda 4\\lib\\site-packages (from plotly>=5.0.0->dash->jupyter-dash) (8.5.0)\n",
      "Requirement already satisfied: wcwidth in c:\\users\\user\\anaconda3\\anaconda 4\\lib\\site-packages (from prompt-toolkit!=3.0.0,!=3.0.1,<3.1.0,>=2.0.0->ipython->jupyter-dash) (0.2.5)\n",
      "Requirement already satisfied: zipp>=0.5 in c:\\users\\user\\anaconda3\\anaconda 4\\lib\\site-packages (from importlib-metadata->dash->jupyter-dash) (3.8.0)\n",
      "Requirement already satisfied: pyparsing!=3.0.5,>=2.0.2 in c:\\users\\user\\anaconda3\\anaconda 4\\lib\\site-packages (from packaging->ipykernel->jupyter-dash) (3.0.9)\n",
      "Requirement already satisfied: pywin32>=1.0 in c:\\users\\user\\anaconda3\\anaconda 4\\lib\\site-packages (from jupyter-core>=4.9.2->jupyter-client>=6.1.12->ipykernel->jupyter-dash) (302)\n",
      "Installing collected packages: ansi2html, jupyter-dash\n",
      "Successfully installed ansi2html-1.9.2 jupyter-dash-0.4.2\n"
     ]
    }
   ],
   "source": [
    "# Installation of Dash (if not already installed)\n",
    "!pip install jupyter-dash\n",
    "\n"
   ]
  },
  {
   "cell_type": "code",
   "execution_count": 2,
   "metadata": {},
   "outputs": [
    {
     "name": "stderr",
     "output_type": "stream",
     "text": [
      "\n",
      "A module that was compiled using NumPy 1.x cannot be run in\n",
      "NumPy 2.0.1 as it may crash. To support both 1.x and 2.x\n",
      "versions of NumPy, modules must be compiled with NumPy 2.0.\n",
      "Some module may need to rebuild instead e.g. with 'pybind11>=2.12'.\n",
      "\n",
      "If you are a user of the module, the easiest solution will be to\n",
      "downgrade to 'numpy<2' or try to upgrade the affected module.\n",
      "We expect that some modules will need time to support NumPy 2.\n",
      "\n",
      "Traceback (most recent call last):  File \"c:\\Users\\User\\anaconda3\\ttt adac\\lib\\runpy.py\", line 197, in _run_module_as_main\n",
      "    return _run_code(code, main_globals, None,\n",
      "  File \"c:\\Users\\User\\anaconda3\\ttt adac\\lib\\runpy.py\", line 87, in _run_code\n",
      "    exec(code, run_globals)\n",
      "  File \"c:\\Users\\User\\anaconda3\\ttt adac\\lib\\site-packages\\ipykernel_launcher.py\", line 17, in <module>\n",
      "    app.launch_new_instance()\n",
      "  File \"c:\\Users\\User\\anaconda3\\ttt adac\\lib\\site-packages\\traitlets\\config\\application.py\", line 846, in launch_instance\n",
      "    app.start()\n",
      "  File \"c:\\Users\\User\\anaconda3\\ttt adac\\lib\\site-packages\\ipykernel\\kernelapp.py\", line 712, in start\n",
      "    self.io_loop.start()\n",
      "  File \"c:\\Users\\User\\anaconda3\\ttt adac\\lib\\site-packages\\tornado\\platform\\asyncio.py\", line 205, in start\n",
      "    self.asyncio_loop.run_forever()\n",
      "  File \"c:\\Users\\User\\anaconda3\\ttt adac\\lib\\asyncio\\base_events.py\", line 601, in run_forever\n",
      "    self._run_once()\n",
      "  File \"c:\\Users\\User\\anaconda3\\ttt adac\\lib\\asyncio\\base_events.py\", line 1905, in _run_once\n",
      "    handle._run()\n",
      "  File \"c:\\Users\\User\\anaconda3\\ttt adac\\lib\\asyncio\\events.py\", line 80, in _run\n",
      "    self._context.run(self._callback, *self._args)\n",
      "  File \"c:\\Users\\User\\anaconda3\\ttt adac\\lib\\site-packages\\ipykernel\\kernelbase.py\", line 510, in dispatch_queue\n",
      "    await self.process_one()\n",
      "  File \"c:\\Users\\User\\anaconda3\\ttt adac\\lib\\site-packages\\ipykernel\\kernelbase.py\", line 499, in process_one\n",
      "    await dispatch(*args)\n",
      "  File \"c:\\Users\\User\\anaconda3\\ttt adac\\lib\\site-packages\\ipykernel\\kernelbase.py\", line 406, in dispatch_shell\n",
      "    await result\n",
      "  File \"c:\\Users\\User\\anaconda3\\ttt adac\\lib\\site-packages\\ipykernel\\kernelbase.py\", line 730, in execute_request\n",
      "    reply_content = await reply_content\n",
      "  File \"c:\\Users\\User\\anaconda3\\ttt adac\\lib\\site-packages\\ipykernel\\ipkernel.py\", line 390, in do_execute\n",
      "    res = shell.run_cell(code, store_history=store_history, silent=silent)\n",
      "  File \"c:\\Users\\User\\anaconda3\\ttt adac\\lib\\site-packages\\ipykernel\\zmqshell.py\", line 528, in run_cell\n",
      "    return super().run_cell(*args, **kwargs)\n",
      "  File \"c:\\Users\\User\\anaconda3\\ttt adac\\lib\\site-packages\\IPython\\core\\interactiveshell.py\", line 2914, in run_cell\n",
      "    result = self._run_cell(\n",
      "  File \"c:\\Users\\User\\anaconda3\\ttt adac\\lib\\site-packages\\IPython\\core\\interactiveshell.py\", line 2960, in _run_cell\n",
      "    return runner(coro)\n",
      "  File \"c:\\Users\\User\\anaconda3\\ttt adac\\lib\\site-packages\\IPython\\core\\async_helpers.py\", line 78, in _pseudo_sync_runner\n",
      "    coro.send(None)\n",
      "  File \"c:\\Users\\User\\anaconda3\\ttt adac\\lib\\site-packages\\IPython\\core\\interactiveshell.py\", line 3185, in run_cell_async\n",
      "    has_raised = await self.run_ast_nodes(code_ast.body, cell_name,\n",
      "  File \"c:\\Users\\User\\anaconda3\\ttt adac\\lib\\site-packages\\IPython\\core\\interactiveshell.py\", line 3377, in run_ast_nodes\n",
      "    if (await self.run_code(code, result,  async_=asy)):\n",
      "  File \"c:\\Users\\User\\anaconda3\\ttt adac\\lib\\site-packages\\IPython\\core\\interactiveshell.py\", line 3457, in run_code\n",
      "    exec(code_obj, self.user_global_ns, self.user_ns)\n",
      "  File \"C:\\Users\\User\\AppData\\Local\\Temp\\ipykernel_12840\\2074424112.py\", line 4, in <module>\n",
      "    import plotly.express as px\n",
      "  File \"c:\\Users\\User\\anaconda3\\ttt adac\\lib\\site-packages\\plotly\\express\\__init__.py\", line 8, in <module>\n",
      "    pd = optional_imports.get_module(\"pandas\")\n",
      "  File \"c:\\Users\\User\\anaconda3\\ttt adac\\lib\\site-packages\\_plotly_utils\\optional_imports.py\", line 30, in get_module\n",
      "    return import_module(name)\n",
      "  File \"c:\\Users\\User\\anaconda3\\ttt adac\\lib\\importlib\\__init__.py\", line 127, in import_module\n",
      "    return _bootstrap._gcd_import(name[level:], package, level)\n",
      "  File \"c:\\Users\\User\\anaconda3\\ttt adac\\lib\\site-packages\\pandas\\__init__.py\", line 77, in <module>\n",
      "    from pandas.core.api import (\n",
      "  File \"c:\\Users\\User\\anaconda3\\ttt adac\\lib\\site-packages\\pandas\\core\\api.py\", line 28, in <module>\n",
      "    from pandas.core.arrays import Categorical\n",
      "  File \"c:\\Users\\User\\anaconda3\\ttt adac\\lib\\site-packages\\pandas\\core\\arrays\\__init__.py\", line 1, in <module>\n",
      "    from pandas.core.arrays.arrow import ArrowExtensionArray\n",
      "  File \"c:\\Users\\User\\anaconda3\\ttt adac\\lib\\site-packages\\pandas\\core\\arrays\\arrow\\__init__.py\", line 5, in <module>\n",
      "    from pandas.core.arrays.arrow.array import ArrowExtensionArray\n",
      "  File \"c:\\Users\\User\\anaconda3\\ttt adac\\lib\\site-packages\\pandas\\core\\arrays\\arrow\\array.py\", line 50, in <module>\n",
      "    from pandas.core import (\n",
      "  File \"c:\\Users\\User\\anaconda3\\ttt adac\\lib\\site-packages\\pandas\\core\\ops\\__init__.py\", line 8, in <module>\n",
      "    from pandas.core.ops.array_ops import (\n",
      "  File \"c:\\Users\\User\\anaconda3\\ttt adac\\lib\\site-packages\\pandas\\core\\ops\\array_ops.py\", line 56, in <module>\n",
      "    from pandas.core.computation import expressions\n",
      "  File \"c:\\Users\\User\\anaconda3\\ttt adac\\lib\\site-packages\\pandas\\core\\computation\\expressions.py\", line 21, in <module>\n",
      "    from pandas.core.computation.check import NUMEXPR_INSTALLED\n",
      "  File \"c:\\Users\\User\\anaconda3\\ttt adac\\lib\\site-packages\\pandas\\core\\computation\\check.py\", line 5, in <module>\n",
      "    ne = import_optional_dependency(\"numexpr\", errors=\"warn\")\n",
      "  File \"c:\\Users\\User\\anaconda3\\ttt adac\\lib\\site-packages\\pandas\\compat\\_optional.py\", line 135, in import_optional_dependency\n",
      "    module = importlib.import_module(name)\n",
      "  File \"c:\\Users\\User\\anaconda3\\ttt adac\\lib\\importlib\\__init__.py\", line 127, in import_module\n",
      "    return _bootstrap._gcd_import(name[level:], package, level)\n",
      "  File \"c:\\Users\\User\\anaconda3\\ttt adac\\lib\\site-packages\\numexpr\\__init__.py\", line 24, in <module>\n",
      "    from numexpr.interpreter import MAX_THREADS, use_vml, __BLOCK_SIZE1__\n"
     ]
    },
    {
     "ename": "AttributeError",
     "evalue": "_ARRAY_API not found",
     "output_type": "error",
     "traceback": [
      "\u001b[1;31m---------------------------------------------------------------------------\u001b[0m",
      "\u001b[1;31mAttributeError\u001b[0m                            Traceback (most recent call last)",
      "\u001b[1;31mAttributeError\u001b[0m: _ARRAY_API not found"
     ]
    },
    {
     "name": "stderr",
     "output_type": "stream",
     "text": [
      "\n",
      "A module that was compiled using NumPy 1.x cannot be run in\n",
      "NumPy 2.0.1 as it may crash. To support both 1.x and 2.x\n",
      "versions of NumPy, modules must be compiled with NumPy 2.0.\n",
      "Some module may need to rebuild instead e.g. with 'pybind11>=2.12'.\n",
      "\n",
      "If you are a user of the module, the easiest solution will be to\n",
      "downgrade to 'numpy<2' or try to upgrade the affected module.\n",
      "We expect that some modules will need time to support NumPy 2.\n",
      "\n",
      "Traceback (most recent call last):  File \"c:\\Users\\User\\anaconda3\\ttt adac\\lib\\runpy.py\", line 197, in _run_module_as_main\n",
      "    return _run_code(code, main_globals, None,\n",
      "  File \"c:\\Users\\User\\anaconda3\\ttt adac\\lib\\runpy.py\", line 87, in _run_code\n",
      "    exec(code, run_globals)\n",
      "  File \"c:\\Users\\User\\anaconda3\\ttt adac\\lib\\site-packages\\ipykernel_launcher.py\", line 17, in <module>\n",
      "    app.launch_new_instance()\n",
      "  File \"c:\\Users\\User\\anaconda3\\ttt adac\\lib\\site-packages\\traitlets\\config\\application.py\", line 846, in launch_instance\n",
      "    app.start()\n",
      "  File \"c:\\Users\\User\\anaconda3\\ttt adac\\lib\\site-packages\\ipykernel\\kernelapp.py\", line 712, in start\n",
      "    self.io_loop.start()\n",
      "  File \"c:\\Users\\User\\anaconda3\\ttt adac\\lib\\site-packages\\tornado\\platform\\asyncio.py\", line 205, in start\n",
      "    self.asyncio_loop.run_forever()\n",
      "  File \"c:\\Users\\User\\anaconda3\\ttt adac\\lib\\asyncio\\base_events.py\", line 601, in run_forever\n",
      "    self._run_once()\n",
      "  File \"c:\\Users\\User\\anaconda3\\ttt adac\\lib\\asyncio\\base_events.py\", line 1905, in _run_once\n",
      "    handle._run()\n",
      "  File \"c:\\Users\\User\\anaconda3\\ttt adac\\lib\\asyncio\\events.py\", line 80, in _run\n",
      "    self._context.run(self._callback, *self._args)\n",
      "  File \"c:\\Users\\User\\anaconda3\\ttt adac\\lib\\site-packages\\ipykernel\\kernelbase.py\", line 510, in dispatch_queue\n",
      "    await self.process_one()\n",
      "  File \"c:\\Users\\User\\anaconda3\\ttt adac\\lib\\site-packages\\ipykernel\\kernelbase.py\", line 499, in process_one\n",
      "    await dispatch(*args)\n",
      "  File \"c:\\Users\\User\\anaconda3\\ttt adac\\lib\\site-packages\\ipykernel\\kernelbase.py\", line 406, in dispatch_shell\n",
      "    await result\n",
      "  File \"c:\\Users\\User\\anaconda3\\ttt adac\\lib\\site-packages\\ipykernel\\kernelbase.py\", line 730, in execute_request\n",
      "    reply_content = await reply_content\n",
      "  File \"c:\\Users\\User\\anaconda3\\ttt adac\\lib\\site-packages\\ipykernel\\ipkernel.py\", line 390, in do_execute\n",
      "    res = shell.run_cell(code, store_history=store_history, silent=silent)\n",
      "  File \"c:\\Users\\User\\anaconda3\\ttt adac\\lib\\site-packages\\ipykernel\\zmqshell.py\", line 528, in run_cell\n",
      "    return super().run_cell(*args, **kwargs)\n",
      "  File \"c:\\Users\\User\\anaconda3\\ttt adac\\lib\\site-packages\\IPython\\core\\interactiveshell.py\", line 2914, in run_cell\n",
      "    result = self._run_cell(\n",
      "  File \"c:\\Users\\User\\anaconda3\\ttt adac\\lib\\site-packages\\IPython\\core\\interactiveshell.py\", line 2960, in _run_cell\n",
      "    return runner(coro)\n",
      "  File \"c:\\Users\\User\\anaconda3\\ttt adac\\lib\\site-packages\\IPython\\core\\async_helpers.py\", line 78, in _pseudo_sync_runner\n",
      "    coro.send(None)\n",
      "  File \"c:\\Users\\User\\anaconda3\\ttt adac\\lib\\site-packages\\IPython\\core\\interactiveshell.py\", line 3185, in run_cell_async\n",
      "    has_raised = await self.run_ast_nodes(code_ast.body, cell_name,\n",
      "  File \"c:\\Users\\User\\anaconda3\\ttt adac\\lib\\site-packages\\IPython\\core\\interactiveshell.py\", line 3377, in run_ast_nodes\n",
      "    if (await self.run_code(code, result,  async_=asy)):\n",
      "  File \"c:\\Users\\User\\anaconda3\\ttt adac\\lib\\site-packages\\IPython\\core\\interactiveshell.py\", line 3457, in run_code\n",
      "    exec(code_obj, self.user_global_ns, self.user_ns)\n",
      "  File \"C:\\Users\\User\\AppData\\Local\\Temp\\ipykernel_12840\\2074424112.py\", line 4, in <module>\n",
      "    import plotly.express as px\n",
      "  File \"c:\\Users\\User\\anaconda3\\ttt adac\\lib\\site-packages\\plotly\\express\\__init__.py\", line 8, in <module>\n",
      "    pd = optional_imports.get_module(\"pandas\")\n",
      "  File \"c:\\Users\\User\\anaconda3\\ttt adac\\lib\\site-packages\\_plotly_utils\\optional_imports.py\", line 30, in get_module\n",
      "    return import_module(name)\n",
      "  File \"c:\\Users\\User\\anaconda3\\ttt adac\\lib\\importlib\\__init__.py\", line 127, in import_module\n",
      "    return _bootstrap._gcd_import(name[level:], package, level)\n",
      "  File \"c:\\Users\\User\\anaconda3\\ttt adac\\lib\\site-packages\\pandas\\__init__.py\", line 77, in <module>\n",
      "    from pandas.core.api import (\n",
      "  File \"c:\\Users\\User\\anaconda3\\ttt adac\\lib\\site-packages\\pandas\\core\\api.py\", line 28, in <module>\n",
      "    from pandas.core.arrays import Categorical\n",
      "  File \"c:\\Users\\User\\anaconda3\\ttt adac\\lib\\site-packages\\pandas\\core\\arrays\\__init__.py\", line 1, in <module>\n",
      "    from pandas.core.arrays.arrow import ArrowExtensionArray\n",
      "  File \"c:\\Users\\User\\anaconda3\\ttt adac\\lib\\site-packages\\pandas\\core\\arrays\\arrow\\__init__.py\", line 5, in <module>\n",
      "    from pandas.core.arrays.arrow.array import ArrowExtensionArray\n",
      "  File \"c:\\Users\\User\\anaconda3\\ttt adac\\lib\\site-packages\\pandas\\core\\arrays\\arrow\\array.py\", line 64, in <module>\n",
      "    from pandas.core.arrays.masked import BaseMaskedArray\n",
      "  File \"c:\\Users\\User\\anaconda3\\ttt adac\\lib\\site-packages\\pandas\\core\\arrays\\masked.py\", line 60, in <module>\n",
      "    from pandas.core import (\n",
      "  File \"c:\\Users\\User\\anaconda3\\ttt adac\\lib\\site-packages\\pandas\\core\\nanops.py\", line 52, in <module>\n",
      "    bn = import_optional_dependency(\"bottleneck\", errors=\"warn\")\n",
      "  File \"c:\\Users\\User\\anaconda3\\ttt adac\\lib\\site-packages\\pandas\\compat\\_optional.py\", line 135, in import_optional_dependency\n",
      "    module = importlib.import_module(name)\n",
      "  File \"c:\\Users\\User\\anaconda3\\ttt adac\\lib\\importlib\\__init__.py\", line 127, in import_module\n",
      "    return _bootstrap._gcd_import(name[level:], package, level)\n",
      "  File \"c:\\Users\\User\\anaconda3\\ttt adac\\lib\\site-packages\\bottleneck\\__init__.py\", line 7, in <module>\n",
      "    from .move import (move_argmax, move_argmin, move_max, move_mean, move_median,\n"
     ]
    },
    {
     "ename": "AttributeError",
     "evalue": "_ARRAY_API not found",
     "output_type": "error",
     "traceback": [
      "\u001b[1;31m---------------------------------------------------------------------------\u001b[0m",
      "\u001b[1;31mAttributeError\u001b[0m                            Traceback (most recent call last)",
      "\u001b[1;31mAttributeError\u001b[0m: _ARRAY_API not found"
     ]
    },
    {
     "ename": "AttributeError",
     "evalue": "module 'numpy' has no attribute 'bool8'",
     "output_type": "error",
     "traceback": [
      "\u001b[1;31m---------------------------------------------------------------------------\u001b[0m",
      "\u001b[1;31mAttributeError\u001b[0m                            Traceback (most recent call last)",
      "\u001b[1;32m~\\AppData\\Local\\Temp\\ipykernel_12840\\2074424112.py\u001b[0m in \u001b[0;36m<module>\u001b[1;34m\u001b[0m\n\u001b[0;32m      2\u001b[0m \u001b[1;32mfrom\u001b[0m \u001b[0mdash\u001b[0m \u001b[1;32mimport\u001b[0m \u001b[0mdcc\u001b[0m\u001b[1;33m,\u001b[0m \u001b[0mhtml\u001b[0m\u001b[1;33m\u001b[0m\u001b[1;33m\u001b[0m\u001b[0m\n\u001b[0;32m      3\u001b[0m \u001b[1;32mfrom\u001b[0m \u001b[0mdash\u001b[0m\u001b[1;33m.\u001b[0m\u001b[0mdependencies\u001b[0m \u001b[1;32mimport\u001b[0m \u001b[0mInput\u001b[0m\u001b[1;33m,\u001b[0m \u001b[0mOutput\u001b[0m\u001b[1;33m\u001b[0m\u001b[1;33m\u001b[0m\u001b[0m\n\u001b[1;32m----> 4\u001b[1;33m \u001b[1;32mimport\u001b[0m \u001b[0mplotly\u001b[0m\u001b[1;33m.\u001b[0m\u001b[0mexpress\u001b[0m \u001b[1;32mas\u001b[0m \u001b[0mpx\u001b[0m\u001b[1;33m\u001b[0m\u001b[1;33m\u001b[0m\u001b[0m\n\u001b[0m\u001b[0;32m      5\u001b[0m \u001b[1;33m\u001b[0m\u001b[0m\n\u001b[0;32m      6\u001b[0m \u001b[1;31m# Initialize the JupyterDash app\u001b[0m\u001b[1;33m\u001b[0m\u001b[1;33m\u001b[0m\u001b[0m\n",
      "\u001b[1;32mc:\\Users\\User\\anaconda3\\ttt adac\\lib\\site-packages\\plotly\\express\\__init__.py\u001b[0m in \u001b[0;36m<module>\u001b[1;34m\u001b[0m\n\u001b[0;32m     13\u001b[0m     )\n\u001b[0;32m     14\u001b[0m \u001b[1;33m\u001b[0m\u001b[0m\n\u001b[1;32m---> 15\u001b[1;33m \u001b[1;32mfrom\u001b[0m \u001b[1;33m.\u001b[0m\u001b[0m_imshow\u001b[0m \u001b[1;32mimport\u001b[0m \u001b[0mimshow\u001b[0m\u001b[1;33m\u001b[0m\u001b[1;33m\u001b[0m\u001b[0m\n\u001b[0m\u001b[0;32m     16\u001b[0m from ._chart_types import (  # noqa: F401\n\u001b[0;32m     17\u001b[0m     \u001b[0mscatter\u001b[0m\u001b[1;33m,\u001b[0m\u001b[1;33m\u001b[0m\u001b[1;33m\u001b[0m\u001b[0m\n",
      "\u001b[1;32mc:\\Users\\User\\anaconda3\\ttt adac\\lib\\site-packages\\plotly\\express\\_imshow.py\u001b[0m in \u001b[0;36m<module>\u001b[1;34m\u001b[0m\n\u001b[0;32m      2\u001b[0m \u001b[1;32mfrom\u001b[0m \u001b[0m_plotly_utils\u001b[0m\u001b[1;33m.\u001b[0m\u001b[0mbasevalidators\u001b[0m \u001b[1;32mimport\u001b[0m \u001b[0mColorscaleValidator\u001b[0m\u001b[1;33m\u001b[0m\u001b[1;33m\u001b[0m\u001b[0m\n\u001b[0;32m      3\u001b[0m \u001b[1;32mfrom\u001b[0m \u001b[1;33m.\u001b[0m\u001b[0m_core\u001b[0m \u001b[1;32mimport\u001b[0m \u001b[0mapply_default_cascade\u001b[0m\u001b[1;33m,\u001b[0m \u001b[0minit_figure\u001b[0m\u001b[1;33m,\u001b[0m \u001b[0mconfigure_animation_controls\u001b[0m\u001b[1;33m\u001b[0m\u001b[1;33m\u001b[0m\u001b[0m\n\u001b[1;32m----> 4\u001b[1;33m \u001b[1;32mfrom\u001b[0m \u001b[1;33m.\u001b[0m\u001b[0mimshow_utils\u001b[0m \u001b[1;32mimport\u001b[0m \u001b[0mrescale_intensity\u001b[0m\u001b[1;33m,\u001b[0m \u001b[0m_integer_ranges\u001b[0m\u001b[1;33m,\u001b[0m \u001b[0m_integer_types\u001b[0m\u001b[1;33m\u001b[0m\u001b[1;33m\u001b[0m\u001b[0m\n\u001b[0m\u001b[0;32m      5\u001b[0m \u001b[1;32mimport\u001b[0m \u001b[0mpandas\u001b[0m \u001b[1;32mas\u001b[0m \u001b[0mpd\u001b[0m\u001b[1;33m\u001b[0m\u001b[1;33m\u001b[0m\u001b[0m\n\u001b[0;32m      6\u001b[0m \u001b[1;32mimport\u001b[0m \u001b[0mnumpy\u001b[0m \u001b[1;32mas\u001b[0m \u001b[0mnp\u001b[0m\u001b[1;33m\u001b[0m\u001b[1;33m\u001b[0m\u001b[0m\n",
      "\u001b[1;32mc:\\Users\\User\\anaconda3\\ttt adac\\lib\\site-packages\\plotly\\express\\imshow_utils.py\u001b[0m in \u001b[0;36m<module>\u001b[1;34m\u001b[0m\n\u001b[0;32m     22\u001b[0m dtype_range = {\n\u001b[0;32m     23\u001b[0m     \u001b[0mnp\u001b[0m\u001b[1;33m.\u001b[0m\u001b[0mbool_\u001b[0m\u001b[1;33m:\u001b[0m \u001b[1;33m(\u001b[0m\u001b[1;32mFalse\u001b[0m\u001b[1;33m,\u001b[0m \u001b[1;32mTrue\u001b[0m\u001b[1;33m)\u001b[0m\u001b[1;33m,\u001b[0m\u001b[1;33m\u001b[0m\u001b[1;33m\u001b[0m\u001b[0m\n\u001b[1;32m---> 24\u001b[1;33m     \u001b[0mnp\u001b[0m\u001b[1;33m.\u001b[0m\u001b[0mbool8\u001b[0m\u001b[1;33m:\u001b[0m \u001b[1;33m(\u001b[0m\u001b[1;32mFalse\u001b[0m\u001b[1;33m,\u001b[0m \u001b[1;32mTrue\u001b[0m\u001b[1;33m)\u001b[0m\u001b[1;33m,\u001b[0m\u001b[1;33m\u001b[0m\u001b[1;33m\u001b[0m\u001b[0m\n\u001b[0m\u001b[0;32m     25\u001b[0m     \u001b[0mnp\u001b[0m\u001b[1;33m.\u001b[0m\u001b[0mfloat16\u001b[0m\u001b[1;33m:\u001b[0m \u001b[1;33m(\u001b[0m\u001b[1;33m-\u001b[0m\u001b[1;36m1\u001b[0m\u001b[1;33m,\u001b[0m \u001b[1;36m1\u001b[0m\u001b[1;33m)\u001b[0m\u001b[1;33m,\u001b[0m\u001b[1;33m\u001b[0m\u001b[1;33m\u001b[0m\u001b[0m\n\u001b[0;32m     26\u001b[0m     \u001b[0mnp\u001b[0m\u001b[1;33m.\u001b[0m\u001b[0mfloat32\u001b[0m\u001b[1;33m:\u001b[0m \u001b[1;33m(\u001b[0m\u001b[1;33m-\u001b[0m\u001b[1;36m1\u001b[0m\u001b[1;33m,\u001b[0m \u001b[1;36m1\u001b[0m\u001b[1;33m)\u001b[0m\u001b[1;33m,\u001b[0m\u001b[1;33m\u001b[0m\u001b[1;33m\u001b[0m\u001b[0m\n",
      "\u001b[1;32mc:\\Users\\User\\anaconda3\\ttt adac\\lib\\site-packages\\numpy\\__init__.py\u001b[0m in \u001b[0;36m__getattr__\u001b[1;34m(attr)\u001b[0m\n\u001b[0;32m    437\u001b[0m             \u001b[1;32mreturn\u001b[0m \u001b[0mchar\u001b[0m\u001b[1;33m.\u001b[0m\u001b[0mchararray\u001b[0m\u001b[1;33m\u001b[0m\u001b[1;33m\u001b[0m\u001b[0m\n\u001b[0;32m    438\u001b[0m \u001b[1;33m\u001b[0m\u001b[0m\n\u001b[1;32m--> 439\u001b[1;33m         raise AttributeError(\"module {!r} has no attribute \"\n\u001b[0m\u001b[0;32m    440\u001b[0m                              \"{!r}\".format(__name__, attr))\n\u001b[0;32m    441\u001b[0m \u001b[1;33m\u001b[0m\u001b[0m\n",
      "\u001b[1;31mAttributeError\u001b[0m: module 'numpy' has no attribute 'bool8'"
     ]
    }
   ],
   "source": [
    "from jupyter_dash import JupyterDash\n",
    "from dash import dcc, html\n",
    "from dash.dependencies import Input, Output\n",
    "import plotly.express as px\n",
    "\n",
    "# Initialize the JupyterDash app\n",
    "app = JupyterDash(__name__)\n",
    "\n",
    "# Layout of the app\n",
    "app.layout = html.Div([\n",
    "    dcc.Graph(id='price-time-series'),\n",
    "    dcc.Dropdown(\n",
    "        id='company-selector',\n",
    "        options=[{'label': symbol, 'value': symbol} for symbol in df['Symbol'].unique()],\n",
    "        value='XOM',  # Default value\n",
    "        multi=True\n",
    "    )\n",
    "])\n",
    "\n",
    "# Callback for updating the time series based on selected company\n",
    "@app.callback(\n",
    "    Output('price-time-series', 'figure'),\n",
    "    Input('company-selector', 'value')\n",
    ")\n",
    "def update_graph(selected_symbols):\n",
    "    if isinstance(selected_symbols, str):\n",
    "        selected_symbols = [selected_symbols]\n",
    "        \n",
    "    filtered_df = df[df['Symbol'].isin(selected_symbols)]\n",
    "    fig = px.line(filtered_df, x='Date', y='Close', color='Symbol')\n",
    "    return fig\n",
    "\n",
    "# Run the app in Jupyter notebook\n",
    "app.run_server(mode='inline', port=8090)\n"
   ]
  },
  {
   "cell_type": "markdown",
   "metadata": {},
   "source": [
    "# Make Future Predictions:\n",
    "You need to create a DataFrame to hold the future dates where you want predictions."
   ]
  },
  {
   "cell_type": "code",
   "execution_count": null,
   "metadata": {},
   "outputs": [],
   "source": [
    "pip install prophet\n"
   ]
  },
  {
   "cell_type": "code",
   "execution_count": null,
   "metadata": {},
   "outputs": [],
   "source": [
    "from prophet import Prophet\n",
    "import pandas as pd\n"
   ]
  },
  {
   "cell_type": "code",
   "execution_count": null,
   "metadata": {},
   "outputs": [],
   "source": [
    "# Assuming your data is in a DataFrame `df` with 'Date' and 'Value' columns\n",
    "df = pd.read_csv(r'C:\\Users\\User\\Documents\\IRON HACK DA 2024\\IH-Labs W8\\Final-Project\\Data\\Raw data\\oil and gas stock prices.csv')\n",
    "df.rename(columns={'Date': 'ds', 'Volume': 'y'}, inplace=True)\n"
   ]
  },
  {
   "cell_type": "code",
   "execution_count": null,
   "metadata": {},
   "outputs": [],
   "source": [
    "print(df.columns)\n"
   ]
  },
  {
   "cell_type": "code",
   "execution_count": null,
   "metadata": {},
   "outputs": [],
   "source": [
    "\n",
    "# Convert 'ds' column to datetime\n",
    "df['ds'] = pd.to_datetime(df['ds'])\n",
    "\n",
    "# Ensure 'y' column is numeric\n",
    "df['y'] = pd.to_numeric(df['y'], errors='coerce')\n",
    "\n",
    "# Drop any rows with NaN values that might have been introduced during conversion\n",
    "df.dropna(inplace=True)\n"
   ]
  },
  {
   "cell_type": "markdown",
   "metadata": {},
   "source": [
    "# Future Predictions:\n",
    "\n",
    "Initialize Prophet model"
   ]
  },
  {
   "cell_type": "code",
   "execution_count": null,
   "metadata": {},
   "outputs": [],
   "source": [
    "\n",
    "# Initialize Prophet model\n",
    "m = Prophet()\n",
    "\n",
    "# Fit the model\n",
    "m.fit(df)\n",
    "\n",
    "# Make future predictions\n",
    "future = m.make_future_dataframe(periods=365)\n",
    "forecast = m.predict(future)\n",
    "\n",
    "# Plot the forecast\n",
    "m.plot(forecast)\n",
    "m.plot_components(forecast)\n"
   ]
  }
 ],
 "metadata": {
  "kernelspec": {
   "display_name": "Python 3",
   "language": "python",
   "name": "python3"
  },
  "language_info": {
   "codemirror_mode": {
    "name": "ipython",
    "version": 3
   },
   "file_extension": ".py",
   "mimetype": "text/x-python",
   "name": "python",
   "nbconvert_exporter": "python",
   "pygments_lexer": "ipython3",
   "version": "3.9.13"
  }
 },
 "nbformat": 4,
 "nbformat_minor": 2
}
